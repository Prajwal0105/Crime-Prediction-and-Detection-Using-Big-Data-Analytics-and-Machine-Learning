{
 "cells": [
  {
   "cell_type": "code",
   "execution_count": 0,
   "metadata": {
    "application/vnd.databricks.v1+cell": {
     "cellMetadata": {
      "byteLimit": 2048000,
      "rowLimit": 10000
     },
     "inputWidgets": {},
     "nuid": "02287068-52f5-415c-850d-180a023f2815",
     "showTitle": false,
     "title": ""
    }
   },
   "outputs": [
    {
     "output_type": "display_data",
     "data": {
      "text/html": [
       "<style scoped>\n",
       "  .table-result-container {\n",
       "    max-height: 300px;\n",
       "    overflow: auto;\n",
       "  }\n",
       "  table, th, td {\n",
       "    border: 1px solid black;\n",
       "    border-collapse: collapse;\n",
       "  }\n",
       "  th, td {\n",
       "    padding: 5px;\n",
       "  }\n",
       "  th {\n",
       "    text-align: left;\n",
       "  }\n",
       "</style><div class='table-result-container'><table class='table-result'><thead style='background-color: white'><tr><th>path</th><th>name</th><th>size</th><th>modificationTime</th></tr></thead><tbody><tr><td>dbfs:/FileStore/tables/NYPD_Complaint_Data_Historics.csv</td><td>NYPD_Complaint_Data_Historics.csv</td><td>631487933</td><td>1684144756000</td></tr><tr><td>dbfs:/FileStore/tables/US_Holiday_Dates.csv</td><td>US_Holiday_Dates.csv</td><td>15699</td><td>1683980008000</td></tr></tbody></table></div>"
      ]
     },
     "metadata": {
      "application/vnd.databricks.v1+output": {
       "addedWidgets": {},
       "aggData": [],
       "aggError": "",
       "aggOverflow": false,
       "aggSchema": [],
       "aggSeriesLimitReached": false,
       "aggType": "",
       "arguments": {},
       "columnCustomDisplayInfos": {},
       "data": [
        [
         "dbfs:/FileStore/tables/NYPD_Complaint_Data_Historics.csv",
         "NYPD_Complaint_Data_Historics.csv",
         631487933,
         1684144756000
        ],
        [
         "dbfs:/FileStore/tables/US_Holiday_Dates.csv",
         "US_Holiday_Dates.csv",
         15699,
         1683980008000
        ]
       ],
       "datasetInfos": [],
       "dbfsResultPath": null,
       "isJsonSchema": true,
       "metadata": {
        "isDbfsCommandResult": false
       },
       "overflow": false,
       "plotOptions": {
        "customPlotOptions": {},
        "displayType": "table",
        "pivotAggregation": null,
        "pivotColumns": null,
        "xColumns": null,
        "yColumns": null
       },
       "removedWidgets": [],
       "schema": [
        {
         "metadata": "{}",
         "name": "path",
         "type": "\"string\""
        },
        {
         "metadata": "{}",
         "name": "name",
         "type": "\"string\""
        },
        {
         "metadata": "{}",
         "name": "size",
         "type": "\"long\""
        },
        {
         "metadata": "{}",
         "name": "modificationTime",
         "type": "\"long\""
        }
       ],
       "type": "table"
      }
     },
     "output_type": "display_data"
    }
   ],
   "source": [
    "%fs\n",
    "ls /FileStore/tables/"
   ]
  },
  {
   "cell_type": "markdown",
   "metadata": {
    "application/vnd.databricks.v1+cell": {
     "cellMetadata": {
      "byteLimit": 2048000,
      "rowLimit": 10000
     },
     "inputWidgets": {},
     "nuid": "91713b0a-f1a4-44ff-96b9-f85b5be6bcc4",
     "showTitle": false,
     "title": ""
    }
   },
   "source": [
    "Importing all libraries"
   ]
  },
  {
   "cell_type": "code",
   "execution_count": 0,
   "metadata": {
    "application/vnd.databricks.v1+cell": {
     "cellMetadata": {
      "byteLimit": 2048000,
      "rowLimit": 10000
     },
     "inputWidgets": {},
     "nuid": "b38e9b8f-d542-4b1a-b9e3-a1a1e8e20049",
     "showTitle": false,
     "title": ""
    }
   },
   "outputs": [
    {
     "output_type": "stream",
     "name": "stdout",
     "output_type": "stream",
     "text": [
      "Python interpreter will be restarted.\nCollecting mlflow\n  Downloading mlflow-2.6.0-py3-none-any.whl (18.3 MB)\nCollecting docker<7,>=4.0.0\n  Downloading docker-6.1.3-py3-none-any.whl (148 kB)\nRequirement already satisfied: pytz<2024 in /databricks/python3/lib/python3.9/site-packages (from mlflow) (2021.3)\nCollecting pyyaml<7,>=5.1\n  Downloading PyYAML-6.0.1-cp39-cp39-manylinux_2_17_x86_64.manylinux2014_x86_64.whl (738 kB)\nCollecting gitpython<4,>=2.1.0\n  Downloading GitPython-3.1.32-py3-none-any.whl (188 kB)\nCollecting cloudpickle<3\n  Downloading cloudpickle-2.2.1-py3-none-any.whl (25 kB)\nRequirement already satisfied: protobuf<5,>=3.12.0 in /databricks/python3/lib/python3.9/site-packages (from mlflow) (3.19.4)\nRequirement already satisfied: requests<3,>=2.17.3 in /databricks/python3/lib/python3.9/site-packages (from mlflow) (2.27.1)\nRequirement already satisfied: numpy<2 in /databricks/python3/lib/python3.9/site-packages (from mlflow) (1.21.5)\nCollecting alembic!=1.10.0,<2\n  Downloading alembic-1.11.3-py3-none-any.whl (225 kB)\nRequirement already satisfied: Jinja2<4,>=2.11 in /databricks/python3/lib/python3.9/site-packages (from mlflow) (2.11.3)\nRequirement already satisfied: scipy<2 in /databricks/python3/lib/python3.9/site-packages (from mlflow) (1.7.3)\nCollecting Flask<3\n  Downloading flask-2.3.3-py3-none-any.whl (96 kB)\nRequirement already satisfied: pyarrow<13,>=4.0.0 in /databricks/python3/lib/python3.9/site-packages (from mlflow) (7.0.0)\nRequirement already satisfied: matplotlib<4 in /databricks/python3/lib/python3.9/site-packages (from mlflow) (3.5.1)\nRequirement already satisfied: scikit-learn<2 in /databricks/python3/lib/python3.9/site-packages (from mlflow) (1.0.2)\nRequirement already satisfied: entrypoints<1 in /databricks/python3/lib/python3.9/site-packages (from mlflow) (0.4)\nCollecting markdown<4,>=3.3\n  Downloading Markdown-3.4.4-py3-none-any.whl (94 kB)\nRequirement already satisfied: pandas<3 in /databricks/python3/lib/python3.9/site-packages (from mlflow) (1.4.2)\nCollecting querystring-parser<2\n  Downloading querystring_parser-1.2.4-py2.py3-none-any.whl (7.9 kB)\nCollecting gunicorn<22\n  Downloading gunicorn-21.2.0-py3-none-any.whl (80 kB)\nCollecting importlib-metadata!=4.7.0,<7,>=3.7.0\n  Downloading importlib_metadata-6.8.0-py3-none-any.whl (22 kB)\nCollecting sqlalchemy<3,>=1.4.0\n  Downloading SQLAlchemy-2.0.20-cp39-cp39-manylinux_2_17_x86_64.manylinux2014_x86_64.whl (3.0 MB)\nRequirement already satisfied: packaging<24 in /databricks/python3/lib/python3.9/site-packages (from mlflow) (21.3)\nCollecting sqlparse<1,>=0.4.0\n  Downloading sqlparse-0.4.4-py3-none-any.whl (41 kB)\nCollecting databricks-cli<1,>=0.8.7\n  Downloading databricks-cli-0.17.7.tar.gz (83 kB)\nRequirement already satisfied: click<9,>=7.0 in /databricks/python3/lib/python3.9/site-packages (from mlflow) (8.0.4)\nCollecting Mako\n  Downloading Mako-1.2.4-py3-none-any.whl (78 kB)\nRequirement already satisfied: typing-extensions>=4 in /databricks/python3/lib/python3.9/site-packages (from alembic!=1.10.0,<2->mlflow) (4.1.1)\nCollecting pyjwt>=1.7.0\n  Downloading PyJWT-2.8.0-py3-none-any.whl (22 kB)\nCollecting oauthlib>=3.1.0\n  Downloading oauthlib-3.2.2-py3-none-any.whl (151 kB)\nCollecting tabulate>=0.7.7\n  Downloading tabulate-0.9.0-py3-none-any.whl (35 kB)\nRequirement already satisfied: six>=1.10.0 in /databricks/python3/lib/python3.9/site-packages (from databricks-cli<1,>=0.8.7->mlflow) (1.16.0)\nRequirement already satisfied: urllib3<2.0.0,>=1.26.7 in /databricks/python3/lib/python3.9/site-packages (from databricks-cli<1,>=0.8.7->mlflow) (1.26.9)\nCollecting websocket-client>=0.32.0\n  Downloading websocket_client-1.6.2-py3-none-any.whl (57 kB)\nCollecting Werkzeug>=2.3.7\n  Downloading werkzeug-2.3.7-py3-none-any.whl (242 kB)\nCollecting click<9,>=7.0\n  Downloading click-8.1.7-py3-none-any.whl (97 kB)\nCollecting itsdangerous>=2.1.2\n  Downloading itsdangerous-2.1.2-py3-none-any.whl (15 kB)\nCollecting blinker>=1.6.2\n  Downloading blinker-1.6.2-py3-none-any.whl (13 kB)\nCollecting Jinja2<4,>=2.11\n  Downloading Jinja2-3.1.2-py3-none-any.whl (133 kB)\nCollecting gitdb<5,>=4.0.1\n  Downloading gitdb-4.0.10-py3-none-any.whl (62 kB)\nCollecting smmap<6,>=3.0.1\n  Downloading smmap-5.0.0-py3-none-any.whl (24 kB)\nCollecting zipp>=0.5\n  Downloading zipp-3.16.2-py3-none-any.whl (7.2 kB)\nRequirement already satisfied: MarkupSafe>=2.0 in /databricks/python3/lib/python3.9/site-packages (from Jinja2<4,>=2.11->mlflow) (2.0.1)\nRequirement already satisfied: python-dateutil>=2.7 in /databricks/python3/lib/python3.9/site-packages (from matplotlib<4->mlflow) (2.8.2)\nRequirement already satisfied: fonttools>=4.22.0 in /databricks/python3/lib/python3.9/site-packages (from matplotlib<4->mlflow) (4.25.0)\nRequirement already satisfied: kiwisolver>=1.0.1 in /databricks/python3/lib/python3.9/site-packages (from matplotlib<4->mlflow) (1.3.2)\nRequirement already satisfied: pyparsing>=2.2.1 in /databricks/python3/lib/python3.9/site-packages (from matplotlib<4->mlflow) (3.0.4)\nRequirement already satisfied: cycler>=0.10 in /databricks/python3/lib/python3.9/site-packages (from matplotlib<4->mlflow) (0.11.0)\nRequirement already satisfied: pillow>=6.2.0 in /databricks/python3/lib/python3.9/site-packages (from matplotlib<4->mlflow) (9.0.1)\nRequirement already satisfied: idna<4,>=2.5 in /databricks/python3/lib/python3.9/site-packages (from requests<3,>=2.17.3->mlflow) (3.3)\nRequirement already satisfied: charset-normalizer~=2.0.0 in /databricks/python3/lib/python3.9/site-packages (from requests<3,>=2.17.3->mlflow) (2.0.4)\nRequirement already satisfied: certifi>=2017.4.17 in /databricks/python3/lib/python3.9/site-packages (from requests<3,>=2.17.3->mlflow) (2021.10.8)\nRequirement already satisfied: threadpoolctl>=2.0.0 in /databricks/python3/lib/python3.9/site-packages (from scikit-learn<2->mlflow) (2.2.0)\nRequirement already satisfied: joblib>=0.11 in /databricks/python3/lib/python3.9/site-packages (from scikit-learn<2->mlflow) (1.1.1)\nCollecting typing-extensions>=4\n  Downloading typing_extensions-4.7.1-py3-none-any.whl (33 kB)\nCollecting greenlet!=0.4.17\n  Downloading greenlet-2.0.2-cp39-cp39-manylinux_2_17_x86_64.manylinux2014_x86_64.whl (610 kB)\nCollecting MarkupSafe>=2.0\n  Downloading MarkupSafe-2.1.3-cp39-cp39-manylinux_2_17_x86_64.manylinux2014_x86_64.whl (25 kB)\nBuilding wheels for collected packages: databricks-cli\n  Building wheel for databricks-cli (setup.py): started\n  Building wheel for databricks-cli (setup.py): finished with status 'done'\n  Created wheel for databricks-cli: filename=databricks_cli-0.17.7-py3-none-any.whl size=143878 sha256=69bad30583a9640079e0355facb99b5351fe3daaa469aac78f72a5b7bca83800\n  Stored in directory: /root/.cache/pip/wheels/b6/90/68/94d223a35a3910c1512a8d42d9f8333ce567ef26e250a56227\nSuccessfully built databricks-cli\nInstalling collected packages: zipp, typing-extensions, smmap, MarkupSafe, greenlet, Werkzeug, websocket-client, tabulate, sqlalchemy, pyjwt, oauthlib, Mako, Jinja2, itsdangerous, importlib-metadata, gitdb, click, blinker, sqlparse, querystring-parser, pyyaml, markdown, gunicorn, gitpython, Flask, docker, databricks-cli, cloudpickle, alembic, mlflow\n  Attempting uninstall: typing-extensions\n    Found existing installation: typing-extensions 4.1.1\n    Not uninstalling typing-extensions at /databricks/python3/lib/python3.9/site-packages, outside environment /local_disk0/.ephemeral_nfs/envs/pythonEnv-0d217dcb-707a-4952-a1db-0202c57cbffc\n    Can't uninstall 'typing-extensions'. No files were found to uninstall.\n  Attempting uninstall: MarkupSafe\n    Found existing installation: MarkupSafe 2.0.1\n    Not uninstalling markupsafe at /databricks/python3/lib/python3.9/site-packages, outside environment /local_disk0/.ephemeral_nfs/envs/pythonEnv-0d217dcb-707a-4952-a1db-0202c57cbffc\n    Can't uninstall 'MarkupSafe'. No files were found to uninstall.\n  Attempting uninstall: Jinja2\n    Found existing installation: Jinja2 2.11.3\n    Not uninstalling jinja2 at /databricks/python3/lib/python3.9/site-packages, outside environment /local_disk0/.ephemeral_nfs/envs/pythonEnv-0d217dcb-707a-4952-a1db-0202c57cbffc\n    Can't uninstall 'Jinja2'. No files were found to uninstall.\n  Attempting uninstall: click\n    Found existing installation: click 8.0.4\n    Not uninstalling click at /databricks/python3/lib/python3.9/site-packages, outside environment /local_disk0/.ephemeral_nfs/envs/pythonEnv-0d217dcb-707a-4952-a1db-0202c57cbffc\n    Can't uninstall 'click'. No files were found to uninstall.\nSuccessfully installed Flask-2.3.3 Jinja2-3.1.2 Mako-1.2.4 MarkupSafe-2.1.3 Werkzeug-2.3.7 alembic-1.11.3 blinker-1.6.2 click-8.1.7 cloudpickle-2.2.1 databricks-cli-0.17.7 docker-6.1.3 gitdb-4.0.10 gitpython-3.1.32 greenlet-2.0.2 gunicorn-21.2.0 importlib-metadata-6.8.0 itsdangerous-2.1.2 markdown-3.4.4 mlflow-2.6.0 oauthlib-3.2.2 pyjwt-2.8.0 pyyaml-6.0.1 querystring-parser-1.2.4 smmap-5.0.0 sqlalchemy-2.0.20 sqlparse-0.4.4 tabulate-0.9.0 typing-extensions-4.7.1 websocket-client-1.6.2 zipp-3.16.2\nPython interpreter will be restarted.\n"
     ]
    }
   ],
   "source": [
    "%pip install mlflow"
   ]
  },
  {
   "cell_type": "code",
   "execution_count": 0,
   "metadata": {
    "application/vnd.databricks.v1+cell": {
     "cellMetadata": {
      "byteLimit": 2048000,
      "rowLimit": 10000
     },
     "inputWidgets": {},
     "nuid": "413461fd-a76a-43eb-bfb7-375a28313cae",
     "showTitle": false,
     "title": ""
    }
   },
   "outputs": [
    {
     "output_type": "display_data",
     "data": {
      "application/vnd.databricks.v1+bamboolib_hint": "{\"pd.DataFrames\": [], \"version\": \"0.0.1\"}",
      "text/plain": []
     },
     "metadata": {},
     "output_type": "display_data"
    }
   ],
   "source": [
    "from csv import reader\n",
    "from pyspark.sql import Row \n",
    "from pyspark.sql import SparkSession\n",
    "from pyspark.sql.types import *\n",
    "import pandas as pd\n",
    "import numpy as np\n",
    "\n",
    "import warnings\n",
    "import seaborn as sns\n",
    "import matplotlib.pyplot as plt\n",
    "from pyspark.sql.functions import to_date \n",
    "from pyspark.sql.functions import year, month \n",
    "# Conver start date and end date to timestamp\n",
    "from pyspark.sql import Row, SparkSession\n",
    "from pyspark.sql.functions import *\n",
    "import os\n",
    "from pyspark.ml.feature import StringIndexer, VectorAssembler, ChiSqSelector\n",
    "from pyspark.ml.classification import LogisticRegression, RandomForestClassifier, GBTClassifier\n",
    "from pyspark.ml.evaluation import MulticlassClassificationEvaluator\n",
    "from pyspark.ml import Pipeline\n",
    "from pyspark.mllib.evaluation import MulticlassMetrics\n",
    "from pyspark.sql.types import FloatType\n",
    "import pyspark.sql.functions as F"
   ]
  },
  {
   "cell_type": "code",
   "execution_count": 0,
   "metadata": {
    "application/vnd.databricks.v1+cell": {
     "cellMetadata": {
      "byteLimit": 2048000,
      "rowLimit": 10000
     },
     "inputWidgets": {},
     "nuid": "326c7ca6-1fcf-4079-af47-9b764ebacacd",
     "showTitle": false,
     "title": ""
    }
   },
   "outputs": [],
   "source": [
    "from pyspark.context import SparkContext\n",
    "from pyspark.sql.session import SparkSession"
   ]
  },
  {
   "cell_type": "code",
   "execution_count": 0,
   "metadata": {
    "application/vnd.databricks.v1+cell": {
     "cellMetadata": {
      "byteLimit": 2048000,
      "rowLimit": 10000
     },
     "inputWidgets": {},
     "nuid": "99189988-6fde-4a10-a08c-b013b973ec6f",
     "showTitle": false,
     "title": ""
    }
   },
   "outputs": [],
   "source": [
    "import mlflow\n",
    "import mlflow.spark\n",
    "import seaborn as sns"
   ]
  },
  {
   "cell_type": "markdown",
   "metadata": {
    "application/vnd.databricks.v1+cell": {
     "cellMetadata": {
      "byteLimit": 2048000,
      "rowLimit": 10000
     },
     "inputWidgets": {},
     "nuid": "bf0b78f9-8948-428f-96c2-a88d7448409e",
     "showTitle": false,
     "title": ""
    }
   },
   "source": [
    "Dataset Loading from DBFS"
   ]
  },
  {
   "cell_type": "code",
   "execution_count": 0,
   "metadata": {
    "application/vnd.databricks.v1+cell": {
     "cellMetadata": {
      "byteLimit": 2048000,
      "rowLimit": 10000
     },
     "inputWidgets": {},
     "nuid": "f69249f1-fc44-422b-b2b7-a9f9e184d767",
     "showTitle": false,
     "title": ""
    }
   },
   "outputs": [
    {
     "output_type": "stream",
     "name": "stdout",
     "output_type": "stream",
     "text": [
      "+----------+------------+-------------------+------------+------------+-----------+----------+-----+--------------------+-----+--------------------+----------------+-----------+---------+-----------------+-------------------+----------------+-----------------+--------+----------+-----------+----------+----------+--------------+---------+--------+----------------+-----------------+------------------+--------------------+--------------------+------------+-------------+--------+-------+\n|CMPLNT_NUM|CMPLNT_FR_DT|       CMPLNT_FR_TM|CMPLNT_TO_DT|CMPLNT_TO_TM|ADDR_PCT_CD|    RPT_DT|KY_CD|           OFNS_DESC|PD_CD|             PD_DESC|CRM_ATPT_CPTD_CD| LAW_CAT_CD|  BORO_NM|LOC_OF_OCCUR_DESC|      PREM_TYP_DESC|      JURIS_DESC|JURISDICTION_CODE|PARKS_NM|HADEVELOPT|HOUSING_PSA|X_COORD_CD|Y_COORD_CD|SUSP_AGE_GROUP|SUSP_RACE|SUSP_SEX|TRANSIT_DISTRICT|         Latitude|         Longitude|             Lat_Lon|         PATROL_BORO|STATION_NAME|VIC_AGE_GROUP|VIC_RACE|VIC_SEX|\n+----------+------------+-------------------+------------+------------+-----------+----------+-----+--------------------+-----+--------------------+----------------+-----------+---------+-----------------+-------------------+----------------+-----------------+--------+----------+-----------+----------+----------+--------------+---------+--------+----------------+-----------------+------------------+--------------------+--------------------+------------+-------------+--------+-------+\n| 770415824|  2019-01-02|2023-08-29 20:45:00|  2019-01-02|    20:48:00|          7|2019-01-02|  117|     DANGEROUS DRUGS|  501|CONTROLLED SUBSTA...|       COMPLETED|     FELONY|MANHATTAN|             null|             STREET|N.Y. POLICE DEPT|                0|    null|      null|       null|    989259|    201395|         25-44|    BLACK|       M|            null|40.71946627900007|-73.98193144799995|(40.7194662790000...|PATROL BORO MAN S...|        null|      UNKNOWN| UNKNOWN|      E|\n| 330849037|  2019-01-02|2023-08-29 14:20:00|        null|        null|         52|2019-01-02|  341|       PETIT LARCENY|  333|LARCENY,PETIT FRO...|       COMPLETED|MISDEMEANOR|    BRONX|           INSIDE|         DRUG STORE|N.Y. POLICE DEPT|                0|    null|      null|       null|   1016782|    260544|         25-44|    BLACK|       U|            null|40.88175555600003|-73.88235556099994|(40.8817555560000...|   PATROL BORO BRONX|        null|      UNKNOWN| UNKNOWN|      D|\n| 991015337|  2019-01-02|2023-08-29 06:15:00|        null|        null|        105|2019-01-02|  348|VEHICLE AND TRAFF...|  916|LEAVING SCENE-ACC...|       COMPLETED|MISDEMEANOR|   QUEENS|             null|             STREET|N.Y. POLICE DEPT|                0|    null|      null|       null|   1063925|    206900|          null|     null|    null|            null|40.73421872800003|-73.71250924899994|(40.7342187280000...|PATROL BORO QUEEN...|        null|        45-64|   BLACK|      F|\n| 409343611|  2019-01-02|2023-08-29 22:18:00|  2019-01-02|    23:00:00|         63|2019-01-03|  113|             FORGERY|  729|FORGERY,ETC.,UNCL...|       COMPLETED|     FELONY| BROOKLYN|             null|             STREET|N.Y. POLICE DEPT|                0|    null|      null|       null|   1006575|    172888|         25-44|    BLACK|       M|            null|40.64119430700004|-73.91955832999997|(40.6411943070000...|PATROL BORO BKLYN...|        null|      UNKNOWN| UNKNOWN|      E|\n| 446827207|  2019-01-02|2023-08-29 05:54:00|  2019-01-02|    06:30:00|         75|2019-01-02|  113|             FORGERY|  725|FORGERY,M.V. REGI...|       COMPLETED|     FELONY| BROOKLYN|             null|             STREET|N.Y. POLICE DEPT|                0|    null|      null|       null|   1016484|    187121|         25-44|    BLACK|       M|            null|40.68023020800007|-73.88378547599996|(40.6802302080000...|PATROL BORO BKLYN...|        null|      UNKNOWN| UNKNOWN|      E|\n| 146383423|  2019-01-02|2023-08-29 01:02:00|  2019-01-02|    19:00:00|         45|2019-01-02|  341|       PETIT LARCENY|  338|LARCENY,PETIT FRO...|       COMPLETED|MISDEMEANOR|    BRONX|           INSIDE|COMMERCIAL BUILDING|N.Y. POLICE DEPT|                0|    null|      null|       null|   1031419|    256696|          null|     null|    null|            null|40.87112791100003|     -73.829450792|(40.8711279110000...|   PATROL BORO BRONX|        null|          65+|   WHITE|      M|\n| 222772122|  2019-01-02|2023-08-29 09:55:00|  2019-01-02|    10:11:00|         30|2019-01-02|  105|             ROBBERY|  361|        ROBBERY,BANK|       COMPLETED|     FELONY|MANHATTAN|           INSIDE|               BANK|N.Y. POLICE DEPT|                0|    null|      null|       null|    997736|    240029|         45-64|    BLACK|       M|            null|40.82549764000004|-73.95127310099997|(40.8254976400000...|PATROL BORO MAN N...|        null|      UNKNOWN| UNKNOWN|      D|\n| 207283571|  2019-01-02|2023-08-29 15:15:00|  2019-01-02|    15:30:00|         28|2019-01-02|  341|       PETIT LARCENY|  338|LARCENY,PETIT FRO...|       COMPLETED|MISDEMEANOR|MANHATTAN|           INSIDE|        CHAIN STORE|N.Y. POLICE DEPT|                0|    null|      null|       null|    995584|    231074|          null|     null|    null|            null|40.80092168300007|     -73.959063944|(40.8009216830000...|PATROL BORO MAN N...|        null|          <18|   WHITE|      M|\n| 119741222|  2019-01-02|2023-08-29 00:01:00|  2019-01-03|    23:59:00|        107|2019-09-04|  341|       PETIT LARCENY|  347|PETIT LARCENY-CHE...|       COMPLETED|MISDEMEANOR|   QUEENS|           INSIDE|    MAILBOX OUTSIDE|N.Y. POLICE DEPT|                0|    null|      null|       null|   1050640|    203098|          null|     null|    null|            null|40.72389289900008|-73.76048291199999|(40.7238928990000...|PATROL BORO QUEEN...|        null|      UNKNOWN| UNKNOWN|      F|\n| 299983170|  2019-01-02|2023-08-29 12:00:00|  2019-05-11|    12:00:00|         18|2019-08-27|  109|       GRAND LARCENY|  407|LARCENY,GRAND BY ...|       COMPLETED|     FELONY|MANHATTAN|           INSIDE|COMMERCIAL BUILDING|N.Y. POLICE DEPT|                0|    null|      null|       null|    991474|    215727|         25-44|    WHITE|       M|            null|40.75880253700007|-73.97392543499996|(40.7588025370000...|PATROL BORO MAN S...|        null|      UNKNOWN| UNKNOWN|      D|\n+----------+------------+-------------------+------------+------------+-----------+----------+-----+--------------------+-----+--------------------+----------------+-----------+---------+-----------------+-------------------+----------------+-----------------+--------+----------+-----------+----------+----------+--------------+---------+--------+----------------+-----------------+------------------+--------------------+--------------------+------------+-------------+--------+-------+\nonly showing top 10 rows\n\n"
     ]
    }
   ],
   "source": [
    "df1 = spark.read.csv('/FileStore/tables/NYPD_Complaint_Data_Historics.csv',header=True, inferSchema=True)\n",
    "df1.show(10)"
   ]
  },
  {
   "cell_type": "code",
   "execution_count": 0,
   "metadata": {
    "application/vnd.databricks.v1+cell": {
     "cellMetadata": {
      "byteLimit": 2048000,
      "rowLimit": 10000
     },
     "inputWidgets": {},
     "nuid": "393fc629-53da-4b50-b37e-9846eeed83e8",
     "showTitle": false,
     "title": ""
    }
   },
   "outputs": [
    {
     "output_type": "stream",
     "name": "stdout",
     "output_type": "stream",
     "text": [
      "Out[5]: 1838507"
     ]
    }
   ],
   "source": [
    "df1.count()"
   ]
  },
  {
   "cell_type": "code",
   "execution_count": 0,
   "metadata": {
    "application/vnd.databricks.v1+cell": {
     "cellMetadata": {
      "byteLimit": 2048000,
      "rowLimit": 10000
     },
     "inputWidgets": {},
     "nuid": "7bd4e27b-6c11-4fc8-9155-2335dddd43a5",
     "showTitle": false,
     "title": ""
    }
   },
   "outputs": [
    {
     "output_type": "stream",
     "name": "stdout",
     "output_type": "stream",
     "text": [
      "Out[6]: DataFrame[summary: string, CMPLNT_NUM: string, CMPLNT_TO_TM: string, ADDR_PCT_CD: string, KY_CD: string, OFNS_DESC: string, PD_CD: string, PD_DESC: string, CRM_ATPT_CPTD_CD: string, LAW_CAT_CD: string, BORO_NM: string, LOC_OF_OCCUR_DESC: string, PREM_TYP_DESC: string, JURIS_DESC: string, JURISDICTION_CODE: string, PARKS_NM: string, HADEVELOPT: string, HOUSING_PSA: string, X_COORD_CD: string, Y_COORD_CD: string, SUSP_AGE_GROUP: string, SUSP_RACE: string, SUSP_SEX: string, TRANSIT_DISTRICT: string, Latitude: string, Longitude: string, Lat_Lon: string, PATROL_BORO: string, STATION_NAME: string, VIC_AGE_GROUP: string, VIC_RACE: string, VIC_SEX: string]"
     ]
    }
   ],
   "source": [
    "df1.describe()"
   ]
  },
  {
   "cell_type": "code",
   "execution_count": 0,
   "metadata": {
    "application/vnd.databricks.v1+cell": {
     "cellMetadata": {
      "byteLimit": 2048000,
      "rowLimit": 10000
     },
     "inputWidgets": {},
     "nuid": "103a00fe-6074-443a-9500-9e461a5756ad",
     "showTitle": false,
     "title": ""
    }
   },
   "outputs": [
    {
     "output_type": "stream",
     "name": "stdout",
     "output_type": "stream",
     "text": [
      "root\n |-- CMPLNT_NUM: string (nullable = true)\n |-- CMPLNT_FR_DT: date (nullable = true)\n |-- CMPLNT_FR_TM: timestamp (nullable = true)\n |-- CMPLNT_TO_DT: date (nullable = true)\n |-- CMPLNT_TO_TM: string (nullable = true)\n |-- ADDR_PCT_CD: integer (nullable = true)\n |-- RPT_DT: date (nullable = true)\n |-- KY_CD: integer (nullable = true)\n |-- OFNS_DESC: string (nullable = true)\n |-- PD_CD: integer (nullable = true)\n |-- PD_DESC: string (nullable = true)\n |-- CRM_ATPT_CPTD_CD: string (nullable = true)\n |-- LAW_CAT_CD: string (nullable = true)\n |-- BORO_NM: string (nullable = true)\n |-- LOC_OF_OCCUR_DESC: string (nullable = true)\n |-- PREM_TYP_DESC: string (nullable = true)\n |-- JURIS_DESC: string (nullable = true)\n |-- JURISDICTION_CODE: integer (nullable = true)\n |-- PARKS_NM: string (nullable = true)\n |-- HADEVELOPT: string (nullable = true)\n |-- HOUSING_PSA: string (nullable = true)\n |-- X_COORD_CD: integer (nullable = true)\n |-- Y_COORD_CD: integer (nullable = true)\n |-- SUSP_AGE_GROUP: string (nullable = true)\n |-- SUSP_RACE: string (nullable = true)\n |-- SUSP_SEX: string (nullable = true)\n |-- TRANSIT_DISTRICT: integer (nullable = true)\n |-- Latitude: double (nullable = true)\n |-- Longitude: double (nullable = true)\n |-- Lat_Lon: string (nullable = true)\n |-- PATROL_BORO: string (nullable = true)\n |-- STATION_NAME: string (nullable = true)\n |-- VIC_AGE_GROUP: string (nullable = true)\n |-- VIC_RACE: string (nullable = true)\n |-- VIC_SEX: string (nullable = true)\n\n"
     ]
    }
   ],
   "source": [
    "df1.printSchema()"
   ]
  },
  {
   "cell_type": "code",
   "execution_count": 0,
   "metadata": {
    "application/vnd.databricks.v1+cell": {
     "cellMetadata": {
      "byteLimit": 2048000,
      "rowLimit": 10000
     },
     "inputWidgets": {},
     "nuid": "53ad453e-dbc3-46dc-9e1a-48e0f74147c3",
     "showTitle": false,
     "title": ""
    }
   },
   "outputs": [
    {
     "output_type": "stream",
     "name": "stdout",
     "output_type": "stream",
     "text": [
      "Out[8]: ['CMPLNT_NUM',\n 'CMPLNT_FR_DT',\n 'CMPLNT_FR_TM',\n 'CMPLNT_TO_DT',\n 'CMPLNT_TO_TM',\n 'ADDR_PCT_CD',\n 'RPT_DT',\n 'KY_CD',\n 'OFNS_DESC',\n 'PD_CD',\n 'PD_DESC',\n 'CRM_ATPT_CPTD_CD',\n 'LAW_CAT_CD',\n 'BORO_NM',\n 'LOC_OF_OCCUR_DESC',\n 'PREM_TYP_DESC',\n 'JURIS_DESC',\n 'JURISDICTION_CODE',\n 'PARKS_NM',\n 'HADEVELOPT',\n 'HOUSING_PSA',\n 'X_COORD_CD',\n 'Y_COORD_CD',\n 'SUSP_AGE_GROUP',\n 'SUSP_RACE',\n 'SUSP_SEX',\n 'TRANSIT_DISTRICT',\n 'Latitude',\n 'Longitude',\n 'Lat_Lon',\n 'PATROL_BORO',\n 'STATION_NAME',\n 'VIC_AGE_GROUP',\n 'VIC_RACE',\n 'VIC_SEX']"
     ]
    }
   ],
   "source": [
    "df1.columns"
   ]
  },
  {
   "cell_type": "markdown",
   "metadata": {
    "application/vnd.databricks.v1+cell": {
     "cellMetadata": {
      "byteLimit": 2048000,
      "rowLimit": 10000
     },
     "inputWidgets": {},
     "nuid": "f5685d91-ad4b-4d7d-9608-39e4d1ce9ac5",
     "showTitle": false,
     "title": ""
    }
   },
   "source": [
    "Data Cleaning & Preprocessing"
   ]
  },
  {
   "cell_type": "code",
   "execution_count": 0,
   "metadata": {
    "application/vnd.databricks.v1+cell": {
     "cellMetadata": {
      "byteLimit": 2048000,
      "rowLimit": 10000
     },
     "inputWidgets": {},
     "nuid": "f6655a4f-698d-4f7e-a270-62bd43f7eb90",
     "showTitle": false,
     "title": ""
    }
   },
   "outputs": [],
   "source": [
    "df1 = df1.withColumn('Start_Date', to_timestamp('CMPLNT_FR_DT', 'MM/dd/yyyy'))\n",
    "# Cast the data type to Date\n",
    "df1 = df1.withColumn('Date', to_date('Start_Date'))\n",
    "df1 = df1.withColumn('Hour', hour(df1['CMPLNT_FR_TM']))\n",
    "# Create a new column of year number\n",
    "df1 = df1.withColumn('YEAR', year('Date')) \n",
    "# Create a new column of month number\n",
    "df1 = df1.withColumn('MONTH', month('Date'))\n",
    "#Create a new column 'day_of_week' from 'date'\n",
    "df1 = df1.withColumn(\"DoW\", date_format(\"Date\", \"E\"))"
   ]
  },
  {
   "cell_type": "code",
   "execution_count": 0,
   "metadata": {
    "application/vnd.databricks.v1+cell": {
     "cellMetadata": {
      "byteLimit": 2048000,
      "rowLimit": 10000
     },
     "inputWidgets": {},
     "nuid": "3b260d73-d8e8-4bd7-bdf6-4a3ec0a29428",
     "showTitle": false,
     "title": ""
    }
   },
   "outputs": [],
   "source": [
    "df1 = df1.withColumn('VIC_AGE_Cat',\n",
    "    when(df1.VIC_AGE_GROUP == '<18', 'Teenager')\n",
    "    .when(df1.VIC_AGE_GROUP == '18-25', 'Young Adult')\n",
    "    .when(df1.VIC_AGE_GROUP == '25-44', 'Middle Age')\n",
    "    .when(df1.VIC_AGE_GROUP == '44-64', 'Mid Old')\n",
    "    .otherwise('Senior'))"
   ]
  },
  {
   "cell_type": "code",
   "execution_count": 0,
   "metadata": {
    "application/vnd.databricks.v1+cell": {
     "cellMetadata": {
      "byteLimit": 2048000,
      "rowLimit": 10000
     },
     "inputWidgets": {},
     "nuid": "4872d28d-afb2-4e35-a7a0-5fa1f7e402ee",
     "showTitle": false,
     "title": ""
    }
   },
   "outputs": [],
   "source": [
    "df1 = df1.drop(\"PARKS_NM\", \"VIC_AGE_GROUP\", \"VIC_RACE\", \"STATION_NAME\", \"PATROL_BORO\", \"TRANSIT_DISTRICT\", \n",
    "             \"SUSP_SEX\", \"SUSP_RACE\", \"SUSP_AGE_GROUP\", \"X_COORD_CD\", \"Y_COORD_CD\", \"HOUSING_PSA\", \"HADEVELOPT\", \n",
    "             \"JURISDICTION_CODE\", \"JURIS_DESC\", \"JURIS_DESC\", \"RPT_DT\", \"JURIS_DESC\", \"PREM_TYP_DESC\",\n",
    "             \"PD_CD\", \"PD_DESC\", \"CMPLNT_TO_TM\", \"CMPLNT_TO_DT\", \"CMPLNT_FR_DT\", \"LOC_OF_OCCUR_DESC\", \"CMPLNT_FR_TM\",\"Start_Date\")"
   ]
  },
  {
   "cell_type": "code",
   "execution_count": 0,
   "metadata": {
    "application/vnd.databricks.v1+cell": {
     "cellMetadata": {
      "byteLimit": 2048000,
      "rowLimit": 10000
     },
     "inputWidgets": {},
     "nuid": "4a773254-763a-4ade-a747-fa54ad0555f6",
     "showTitle": false,
     "title": ""
    }
   },
   "outputs": [
    {
     "output_type": "stream",
     "name": "stdout",
     "output_type": "stream",
     "text": [
      "+----------+-----------+-----+--------------------+----------------+-----------+---------+-----------------+------------------+--------------------+-------+----------+----+----+-----+---+-----------+\n|CMPLNT_NUM|ADDR_PCT_CD|KY_CD|           OFNS_DESC|CRM_ATPT_CPTD_CD| LAW_CAT_CD|  BORO_NM|         Latitude|         Longitude|             Lat_Lon|VIC_SEX|      Date|Hour|YEAR|MONTH|DoW|VIC_AGE_Cat|\n+----------+-----------+-----+--------------------+----------------+-----------+---------+-----------------+------------------+--------------------+-------+----------+----+----+-----+---+-----------+\n| 770415824|          7|  117|     DANGEROUS DRUGS|       COMPLETED|     FELONY|MANHATTAN|40.71946627900007|-73.98193144799995|(40.7194662790000...|      E|2019-01-02|  20|2019|    1|Wed|     Senior|\n| 330849037|         52|  341|       PETIT LARCENY|       COMPLETED|MISDEMEANOR|    BRONX|40.88175555600003|-73.88235556099994|(40.8817555560000...|      D|2019-01-02|  14|2019|    1|Wed|     Senior|\n| 991015337|        105|  348|VEHICLE AND TRAFF...|       COMPLETED|MISDEMEANOR|   QUEENS|40.73421872800003|-73.71250924899994|(40.7342187280000...|      F|2019-01-02|   6|2019|    1|Wed|     Senior|\n| 409343611|         63|  113|             FORGERY|       COMPLETED|     FELONY| BROOKLYN|40.64119430700004|-73.91955832999997|(40.6411943070000...|      E|2019-01-02|  22|2019|    1|Wed|     Senior|\n| 446827207|         75|  113|             FORGERY|       COMPLETED|     FELONY| BROOKLYN|40.68023020800007|-73.88378547599996|(40.6802302080000...|      E|2019-01-02|   5|2019|    1|Wed|     Senior|\n| 146383423|         45|  341|       PETIT LARCENY|       COMPLETED|MISDEMEANOR|    BRONX|40.87112791100003|     -73.829450792|(40.8711279110000...|      M|2019-01-02|   1|2019|    1|Wed|     Senior|\n| 222772122|         30|  105|             ROBBERY|       COMPLETED|     FELONY|MANHATTAN|40.82549764000004|-73.95127310099997|(40.8254976400000...|      D|2019-01-02|   9|2019|    1|Wed|     Senior|\n| 207283571|         28|  341|       PETIT LARCENY|       COMPLETED|MISDEMEANOR|MANHATTAN|40.80092168300007|     -73.959063944|(40.8009216830000...|      M|2019-01-02|  15|2019|    1|Wed|   Teenager|\n| 119741222|        107|  341|       PETIT LARCENY|       COMPLETED|MISDEMEANOR|   QUEENS|40.72389289900008|-73.76048291199999|(40.7238928990000...|      F|2019-01-02|   0|2019|    1|Wed|     Senior|\n| 299983170|         18|  109|       GRAND LARCENY|       COMPLETED|     FELONY|MANHATTAN|40.75880253700007|-73.97392543499996|(40.7588025370000...|      D|2019-01-02|  12|2019|    1|Wed|     Senior|\n+----------+-----------+-----+--------------------+----------------+-----------+---------+-----------------+------------------+--------------------+-------+----------+----+----+-----+---+-----------+\nonly showing top 10 rows\n\n"
     ]
    }
   ],
   "source": [
    "df1.show(10)"
   ]
  },
  {
   "cell_type": "code",
   "execution_count": 0,
   "metadata": {
    "application/vnd.databricks.v1+cell": {
     "cellMetadata": {
      "byteLimit": 2048000,
      "rowLimit": 10000
     },
     "inputWidgets": {},
     "nuid": "433d6d33-412b-42a9-9ba3-68de0e2098a8",
     "showTitle": false,
     "title": ""
    }
   },
   "outputs": [],
   "source": [
    "df1 = df1.toDF('Complaint_ID', 'Neighborhood', 'Offence_Code', 'Offence_Type',\n",
    "        'Status','Offence_Level','Borough','Latitude','Longitude','Lat_Lon', 'Victim_Sex', 'Date', 'Hour', 'Year', 'Month', 'DoW','Victim_Agegroup')\n"
   ]
  },
  {
   "cell_type": "code",
   "execution_count": 0,
   "metadata": {
    "application/vnd.databricks.v1+cell": {
     "cellMetadata": {
      "byteLimit": 2048000,
      "rowLimit": 10000
     },
     "inputWidgets": {},
     "nuid": "50c35d15-a418-4042-8d34-478aa3a1bf78",
     "showTitle": false,
     "title": ""
    }
   },
   "outputs": [],
   "source": [
    "mean_log = df1.agg({'Longitude': 'mean'}).collect()[0][0] \n",
    "df1 = df1.fillna(mean_log, subset=['Longitude'])\n",
    "\n",
    "mean_lat = df1.agg({'Latitude': 'mean'}).collect()[0][0] \n",
    "df1 = df1.fillna(mean_lat, subset=['Latitude'])\n",
    "\n",
    "df1 = df1.fillna(-1, subset=['Borough','Neighborhood','Offence_Code','Offence_Type','Status','Offence_level','Victim_Sex'])\n",
    "df1 = df1.na.drop('any')"
   ]
  },
  {
   "cell_type": "code",
   "execution_count": 0,
   "metadata": {
    "application/vnd.databricks.v1+cell": {
     "cellMetadata": {
      "byteLimit": 2048000,
      "rowLimit": 10000
     },
     "inputWidgets": {},
     "nuid": "8213c6c9-6645-479d-8884-4a006bf23c1a",
     "showTitle": false,
     "title": ""
    }
   },
   "outputs": [
    {
     "output_type": "stream",
     "name": "stdout",
     "output_type": "stream",
     "text": [
      "+------------+------------+------------+--------------------+---------+-------------+---------+-----------------+------------------+--------------------+----------+----------+----+----+-----+---+---------------+\n|Complaint_ID|Neighborhood|Offence_Code|        Offence_Type|   Status|Offence_Level|  Borough|         Latitude|         Longitude|             Lat_Lon|Victim_Sex|      Date|Hour|Year|Month|DoW|Victim_Agegroup|\n+------------+------------+------------+--------------------+---------+-------------+---------+-----------------+------------------+--------------------+----------+----------+----+----+-----+---+---------------+\n|   770415824|           7|         117|     DANGEROUS DRUGS|COMPLETED|       FELONY|MANHATTAN|40.71946627900007|-73.98193144799995|(40.7194662790000...|         E|2019-01-02|  20|2019|    1|Wed|         Senior|\n|   330849037|          52|         341|       PETIT LARCENY|COMPLETED|  MISDEMEANOR|    BRONX|40.88175555600003|-73.88235556099994|(40.8817555560000...|         D|2019-01-02|  14|2019|    1|Wed|         Senior|\n|   991015337|         105|         348|VEHICLE AND TRAFF...|COMPLETED|  MISDEMEANOR|   QUEENS|40.73421872800003|-73.71250924899994|(40.7342187280000...|         F|2019-01-02|   6|2019|    1|Wed|         Senior|\n|   409343611|          63|         113|             FORGERY|COMPLETED|       FELONY| BROOKLYN|40.64119430700004|-73.91955832999997|(40.6411943070000...|         E|2019-01-02|  22|2019|    1|Wed|         Senior|\n|   446827207|          75|         113|             FORGERY|COMPLETED|       FELONY| BROOKLYN|40.68023020800007|-73.88378547599996|(40.6802302080000...|         E|2019-01-02|   5|2019|    1|Wed|         Senior|\n|   146383423|          45|         341|       PETIT LARCENY|COMPLETED|  MISDEMEANOR|    BRONX|40.87112791100003|     -73.829450792|(40.8711279110000...|         M|2019-01-02|   1|2019|    1|Wed|         Senior|\n|   222772122|          30|         105|             ROBBERY|COMPLETED|       FELONY|MANHATTAN|40.82549764000004|-73.95127310099997|(40.8254976400000...|         D|2019-01-02|   9|2019|    1|Wed|         Senior|\n|   207283571|          28|         341|       PETIT LARCENY|COMPLETED|  MISDEMEANOR|MANHATTAN|40.80092168300007|     -73.959063944|(40.8009216830000...|         M|2019-01-02|  15|2019|    1|Wed|       Teenager|\n|   119741222|         107|         341|       PETIT LARCENY|COMPLETED|  MISDEMEANOR|   QUEENS|40.72389289900008|-73.76048291199999|(40.7238928990000...|         F|2019-01-02|   0|2019|    1|Wed|         Senior|\n|   299983170|          18|         109|       GRAND LARCENY|COMPLETED|       FELONY|MANHATTAN|40.75880253700007|-73.97392543499996|(40.7588025370000...|         D|2019-01-02|  12|2019|    1|Wed|         Senior|\n+------------+------------+------------+--------------------+---------+-------------+---------+-----------------+------------------+--------------------+----------+----------+----+----+-----+---+---------------+\nonly showing top 10 rows\n\n"
     ]
    }
   ],
   "source": [
    "df1.show(10)"
   ]
  },
  {
   "cell_type": "code",
   "execution_count": 0,
   "metadata": {
    "application/vnd.databricks.v1+cell": {
     "cellMetadata": {
      "byteLimit": 2048000,
      "rowLimit": 10000
     },
     "inputWidgets": {},
     "nuid": "2f693b56-e9b0-4fa7-93f3-e85d739419a5",
     "showTitle": false,
     "title": ""
    }
   },
   "outputs": [],
   "source": [
    "df = df1"
   ]
  },
  {
   "cell_type": "code",
   "execution_count": 0,
   "metadata": {
    "application/vnd.databricks.v1+cell": {
     "cellMetadata": {
      "byteLimit": 2048000,
      "rowLimit": 10000
     },
     "inputWidgets": {},
     "nuid": "ee159696-90cb-44ad-9a05-e3be7f5497da",
     "showTitle": false,
     "title": ""
    }
   },
   "outputs": [
    {
     "output_type": "stream",
     "name": "stdout",
     "output_type": "stream",
     "text": [
      "+------------+------------+------------+--------------------+---------+-------------+---------+------------------+------------------+--------------------+----------+----------+----+----+-----+---+---------------+\n|Complaint_ID|Neighborhood|Offence_Code|        Offence_Type|   Status|Offence_Level|  Borough|          Latitude|         Longitude|             Lat_Lon|Victim_Sex|      Date|Hour|Year|Month|DoW|Victim_Agegroup|\n+------------+------------+------------+--------------------+---------+-------------+---------+------------------+------------------+--------------------+----------+----------+----+----+-----+---+---------------+\n|   770415824|           7|         117|     DANGEROUS DRUGS|COMPLETED|       FELONY|MANHATTAN| 40.71946627900007|-73.98193144799995|(40.7194662790000...|         E|2019-01-02|  20|2019|    1|Wed|         Senior|\n|   330849037|          52|         341|       PETIT LARCENY|COMPLETED|  MISDEMEANOR|    BRONX| 40.88175555600003|-73.88235556099994|(40.8817555560000...|         D|2019-01-02|  14|2019|    1|Wed|         Senior|\n|   991015337|         105|         348|VEHICLE AND TRAFF...|COMPLETED|  MISDEMEANOR|   QUEENS| 40.73421872800003|-73.71250924899994|(40.7342187280000...|         F|2019-01-02|   6|2019|    1|Wed|         Senior|\n|   409343611|          63|         113|             FORGERY|COMPLETED|       FELONY| BROOKLYN| 40.64119430700004|-73.91955832999997|(40.6411943070000...|         E|2019-01-02|  22|2019|    1|Wed|         Senior|\n|   446827207|          75|         113|             FORGERY|COMPLETED|       FELONY| BROOKLYN| 40.68023020800007|-73.88378547599996|(40.6802302080000...|         E|2019-01-02|   5|2019|    1|Wed|         Senior|\n|   146383423|          45|         341|       PETIT LARCENY|COMPLETED|  MISDEMEANOR|    BRONX| 40.87112791100003|     -73.829450792|(40.8711279110000...|         M|2019-01-02|   1|2019|    1|Wed|         Senior|\n|   222772122|          30|         105|             ROBBERY|COMPLETED|       FELONY|MANHATTAN| 40.82549764000004|-73.95127310099997|(40.8254976400000...|         D|2019-01-02|   9|2019|    1|Wed|         Senior|\n|   207283571|          28|         341|       PETIT LARCENY|COMPLETED|  MISDEMEANOR|MANHATTAN| 40.80092168300007|     -73.959063944|(40.8009216830000...|         M|2019-01-02|  15|2019|    1|Wed|       Teenager|\n|   119741222|         107|         341|       PETIT LARCENY|COMPLETED|  MISDEMEANOR|   QUEENS| 40.72389289900008|-73.76048291199999|(40.7238928990000...|         F|2019-01-02|   0|2019|    1|Wed|         Senior|\n|   299983170|          18|         109|       GRAND LARCENY|COMPLETED|       FELONY|MANHATTAN| 40.75880253700007|-73.97392543499996|(40.7588025370000...|         D|2019-01-02|  12|2019|    1|Wed|         Senior|\n|   831375851|          90|         351|CRIMINAL MISCHIEF...|COMPLETED|  MISDEMEANOR| BROOKLYN|40.709486620000064|     -73.960981287|(40.7094866200000...|         D|2019-01-02|  10|2019|    1|Wed|         Senior|\n|   736939917|         106|         112|         THEFT-FRAUD|COMPLETED|       FELONY|   QUEENS| 40.68361433900003|-73.83056855599993|(40.6836143390000...|         F|2019-01-02|   9|2019|    1|Wed|     Middle Age|\n|   984342954|           1|         361|OFF. AGNST PUB OR...|COMPLETED|  MISDEMEANOR|MANHATTAN| 40.70732160200004|-74.01096626599998|(40.7073216020000...|         F|2019-01-02|  12|2019|    1|Wed|     Middle Age|\n|   325914854|          67|         351|CRIMINAL MISCHIEF...|COMPLETED|  MISDEMEANOR| BROOKLYN|40.649256563000044|-73.94409348499995|(40.6492565630000...|         E|2019-01-02|   0|2019|    1|Wed|         Senior|\n|   602766300|          44|         578|       HARRASSMENT 2|COMPLETED|    VIOLATION|    BRONX| 40.83284493600007|     -73.913342415|(40.8328449360000...|         F|2019-01-02|   4|2019|    1|Wed|         Senior|\n|   538728060|         115|         353|UNAUTHORIZED USE ...|COMPLETED|  MISDEMEANOR|   QUEENS| 40.74831725800004|     -73.889812953|(40.7483172580000...|         F|2019-01-02|  19|2019|    1|Wed|         Senior|\n|   449396644|          63|         351|CRIMINAL MISCHIEF...|COMPLETED|  MISDEMEANOR| BROOKLYN|40.626026480000064|-73.92763890999998|(40.6260264800000...|         D|2019-01-02|   0|2019|    1|Wed|         Senior|\n|   420671690|           1|         361|OFF. AGNST PUB OR...|COMPLETED|  MISDEMEANOR|MANHATTAN| 40.70815640400008|-74.00541900099995|(40.7081564040000...|         F|2019-01-02|   8|2019|    1|Wed|     Middle Age|\n|   617769777|          67|         351|CRIMINAL MISCHIEF...|COMPLETED|  MISDEMEANOR| BROOKLYN| 40.65062437100005|-73.92206240299998|(40.6506243710000...|         E|2019-01-02|   0|2019|    1|Wed|         Senior|\n|   866569816|          67|         351|CRIMINAL MISCHIEF...|COMPLETED|  MISDEMEANOR| BROOKLYN| 40.65111714500005|-73.94331350299996|(40.6511171450000...|         E|2019-01-02|   0|2019|    1|Wed|         Senior|\n+------------+------------+------------+--------------------+---------+-------------+---------+------------------+------------------+--------------------+----------+----------+----+----+-----+---+---------------+\nonly showing top 20 rows\n\n"
     ]
    }
   ],
   "source": [
    "df.show()"
   ]
  },
  {
   "cell_type": "code",
   "execution_count": 0,
   "metadata": {
    "application/vnd.databricks.v1+cell": {
     "cellMetadata": {
      "byteLimit": 2048000,
      "rowLimit": 10000
     },
     "inputWidgets": {},
     "nuid": "0625b62f-a46a-4b26-887c-45d4eec65772",
     "showTitle": false,
     "title": ""
    }
   },
   "outputs": [],
   "source": [
    "df = df.drop('Complaint_ID')"
   ]
  },
  {
   "cell_type": "markdown",
   "metadata": {
    "application/vnd.databricks.v1+cell": {
     "cellMetadata": {
      "byteLimit": 2048000,
      "rowLimit": 10000
     },
     "inputWidgets": {},
     "nuid": "40a4de64-aa75-4a88-ad63-604e3cef0f72",
     "showTitle": false,
     "title": ""
    }
   },
   "source": [
    "Exploratory Data Analysis"
   ]
  },
  {
   "cell_type": "code",
   "execution_count": 0,
   "metadata": {
    "application/vnd.databricks.v1+cell": {
     "cellMetadata": {
      "byteLimit": 2048000,
      "rowLimit": 10000
     },
     "inputWidgets": {},
     "nuid": "225e5fd3-bd4f-457f-b57d-25f276687c30",
     "showTitle": false,
     "title": ""
    }
   },
   "outputs": [],
   "source": [
    "#creating database\n",
    "\n",
    "spark.sql(\"drop database if exists nypddatabase cascade\")\n",
    "spark.sql(\"create database nypddatabase\");\n",
    "df.write.mode(\"overwrite\").saveAsTable(\"nypddatabase.df\")"
   ]
  },
  {
   "cell_type": "code",
   "execution_count": 0,
   "metadata": {
    "application/vnd.databricks.v1+cell": {
     "cellMetadata": {
      "byteLimit": 2048000,
      "rowLimit": 10000
     },
     "inputWidgets": {},
     "nuid": "3e14c371-6054-4d54-bbc4-d15601630d42",
     "showTitle": false,
     "title": ""
    }
   },
   "outputs": [
    {
     "output_type": "display_data",
     "data": {
      "text/html": [
       "<style scoped>\n",
       "  .table-result-container {\n",
       "    max-height: 300px;\n",
       "    overflow: auto;\n",
       "  }\n",
       "  table, th, td {\n",
       "    border: 1px solid black;\n",
       "    border-collapse: collapse;\n",
       "  }\n",
       "  th, td {\n",
       "    padding: 5px;\n",
       "  }\n",
       "  th {\n",
       "    text-align: left;\n",
       "  }\n",
       "</style><div class='table-result-container'><table class='table-result'><thead style='background-color: white'><tr><th>Borough</th><th>Count</th></tr></thead><tbody><tr><td>BROOKLYN</td><td>520290</td></tr><tr><td>MANHATTAN</td><td>453453</td></tr><tr><td>BRONX</td><td>394454</td></tr><tr><td>QUEENS</td><td>390556</td></tr><tr><td>STATEN ISLAND</td><td>76737</td></tr></tbody></table></div>"
      ]
     },
     "metadata": {
      "application/vnd.databricks.v1+output": {
       "addedWidgets": {},
       "aggData": [],
       "aggError": "",
       "aggOverflow": false,
       "aggSchema": [],
       "aggSeriesLimitReached": false,
       "aggType": "",
       "arguments": {},
       "columnCustomDisplayInfos": {},
       "data": [
        [
         "BROOKLYN",
         520290
        ],
        [
         "MANHATTAN",
         453453
        ],
        [
         "BRONX",
         394454
        ],
        [
         "QUEENS",
         390556
        ],
        [
         "STATEN ISLAND",
         76737
        ]
       ],
       "datasetInfos": [],
       "dbfsResultPath": null,
       "isJsonSchema": true,
       "metadata": {},
       "overflow": false,
       "plotOptions": {
        "customPlotOptions": {},
        "displayType": "table",
        "pivotAggregation": null,
        "pivotColumns": null,
        "xColumns": null,
        "yColumns": null
       },
       "removedWidgets": [],
       "schema": [
        {
         "metadata": "{}",
         "name": "Borough",
         "type": "\"string\""
        },
        {
         "metadata": "{}",
         "name": "Count",
         "type": "\"long\""
        }
       ],
       "type": "table"
      }
     },
     "output_type": "display_data"
    },
    {
     "output_type": "display_data",
     "data": {
      "text/plain": [
       "Databricks visualization. Run in Databricks to view."
      ]
     },
     "metadata": {
      "application/vnd.databricks.v1.subcommand+json": {
       "bindings": {},
       "collapsed": false,
       "command": "%python\n__backend_agg_display_orig = display\n__backend_agg_dfs = []\ndef __backend_agg_display_new(df):\n    __backend_agg_df_modules = [\"pandas.core.frame\", \"databricks.koalas.frame\", \"pyspark.sql.dataframe\", \"pyspark.pandas.frame\", \"pyspark.sql.connect.dataframe\"]\n    if (type(df).__module__ in __backend_agg_df_modules and type(df).__name__ == 'DataFrame') or isinstance(df, list):\n        __backend_agg_dfs.append(df)\n\ndisplay = __backend_agg_display_new\n\ndef __backend_agg_user_code_fn():\n    import base64\n    exec(base64.standard_b64decode(\"ZGlzcGxheShzcGFyay5zcWwoInNlbGVjdCBCb3JvdWdoLGNvdW50KCopIGFzIENvdW50IGZyb20gbnlwZGRhdGFiYXNlLmRmIGdyb3VwIGJ5IEJvcm91Z2ggb3JkZXIgYnkgQ291bnQgZGVzYyBsaW1pdCA1Iikp\").decode())\n\ntry:\n    # run user code\n    __backend_agg_user_code_fn()\n\n    #reset display function\n    display = __backend_agg_display_orig\n\n    if len(__backend_agg_dfs) > 0:\n        # create a temp view\n        if type(__backend_agg_dfs[0]).__module__ == \"databricks.koalas.frame\":\n            # koalas dataframe\n            __backend_agg_dfs[0].to_spark().createOrReplaceTempView(\"DatabricksView2667d0e\")\n        elif type(__backend_agg_dfs[0]).__module__ == \"pandas.core.frame\" or isinstance(__backend_agg_dfs[0], list):\n            # pandas dataframe\n            spark.createDataFrame(__backend_agg_dfs[0]).createOrReplaceTempView(\"DatabricksView2667d0e\")\n        else:\n            __backend_agg_dfs[0].createOrReplaceTempView(\"DatabricksView2667d0e\")\n        #run backend agg\n        display(spark.sql(\"\"\"WITH q AS (select * from DatabricksView2667d0e) SELECT `Borough`,SUM(`Count`) `column_16dec74c8`,`Borough` FROM q GROUP BY `Borough`\"\"\"))\n    else:\n        displayHTML(\"dataframe no longer exists. If you're using dataframe.display(), use display(dataframe) instead.\")\n\n\nfinally:\n    spark.sql(\"drop view if exists DatabricksView2667d0e\")\n    display = __backend_agg_display_orig\n    del __backend_agg_display_new\n    del __backend_agg_display_orig\n    del __backend_agg_dfs\n    del __backend_agg_user_code_fn\n\n",
       "commandTitle": "Visualization 1",
       "commandType": "auto",
       "commandVersion": 0,
       "commentThread": [],
       "commentsVisible": false,
       "contentSha256Hex": null,
       "customPlotOptions": {
        "redashChart": [
         {
          "key": "type",
          "value": "CHART"
         },
         {
          "key": "options",
          "value": {
           "alignYAxesAtZero": true,
           "coefficient": 1,
           "columnConfigurationMap": {
            "series": {
             "column": "Borough",
             "id": "column_16dec74c9"
            },
            "x": {
             "column": "Borough",
             "id": "column_16dec74c7"
            },
            "y": [
             {
              "column": "Count",
              "id": "column_16dec74c8",
              "transform": "SUM"
             }
            ]
           },
           "dateTimeFormat": "DD/MM/YYYY HH:mm",
           "direction": {
            "type": "counterclockwise"
           },
           "error_y": {
            "type": "data",
            "visible": true
           },
           "globalSeriesType": "column",
           "isAggregationOn": true,
           "legend": {
            "traceorder": "normal"
           },
           "missingValuesAsZero": true,
           "numberFormat": "0,0[.]00000",
           "percentFormat": "0[.]00%",
           "series": {
            "error_y": {
             "type": "data",
             "visible": true
            },
            "stacking": null
           },
           "seriesOptions": {
            "column_16dec74c8": {
             "name": "Count",
             "yAxis": 0
            }
           },
           "showDataLabels": false,
           "sizemode": "diameter",
           "sortX": true,
           "sortY": true,
           "swappedAxes": true,
           "textFormat": "",
           "useAggregationsUi": true,
           "valuesOptions": {},
           "version": 2,
           "xAxis": {
            "labels": {
             "enabled": true
            },
            "type": "-"
           },
           "yAxis": [
            {
             "type": "-"
            },
            {
             "opposite": true,
             "type": "-"
            }
           ]
          }
         }
        ]
       },
       "datasetPreviewNameToCmdIdMap": {},
       "diffDeletes": [],
       "diffInserts": [],
       "displayType": "redashChart",
       "error": null,
       "errorSummary": null,
       "errorTraceType": null,
       "finishTime": 0,
       "globalVars": {},
       "guid": "",
       "height": "auto",
       "hideCommandCode": false,
       "hideCommandResult": false,
       "iPythonMetadata": null,
       "inputWidgets": {},
       "isLockedInExamMode": false,
       "latestUser": "a user",
       "latestUserId": null,
       "listResultMetadata": null,
       "metadata": {
        "byteLimit": 2048000,
        "rowLimit": 10000
       },
       "nuid": "14f78977-e8fe-4498-b71f-b058c6888d2e",
       "origId": 0,
       "parentHierarchy": [],
       "pivotAggregation": null,
       "pivotColumns": null,
       "position": 25.5,
       "resultDbfsErrorMessage": null,
       "resultDbfsStatus": "INLINED_IN_TREE",
       "results": null,
       "showCommandTitle": false,
       "startTime": 0,
       "state": "finished",
       "streamStates": {},
       "subcommandOptions": {
        "queryPlan": {
         "groups": [
          {
           "column": "Borough",
           "type": "column"
          },
          {
           "column": "Borough",
           "type": "column"
          }
         ],
         "selects": [
          {
           "column": "Borough",
           "type": "column"
          },
          {
           "alias": "column_16dec74c8",
           "args": [
            {
             "column": "Count",
             "type": "column"
            }
           ],
           "function": "SUM",
           "type": "function"
          },
          {
           "column": "Borough",
           "type": "column"
          }
         ]
        }
       },
       "submitTime": 0,
       "subtype": "tableResultSubCmd.visualization",
       "tableResultIndex": 0,
       "useConsistentColors": false,
       "version": "CommandV1",
       "width": "auto",
       "workflows": [],
       "xColumns": null,
       "yColumns": null
      }
     },
     "output_type": "display_data"
    }
   ],
   "source": [
    "display(spark.sql(\"select Borough,count(*) as Count from nypddatabase.df group by Borough order by Count desc limit 5\"))"
   ]
  },
  {
   "cell_type": "code",
   "execution_count": 0,
   "metadata": {
    "application/vnd.databricks.v1+cell": {
     "cellMetadata": {
      "byteLimit": 2048000,
      "rowLimit": 10000
     },
     "inputWidgets": {},
     "nuid": "3835a007-5419-4860-b03a-1ceb38a6995e",
     "showTitle": false,
     "title": ""
    }
   },
   "outputs": [
    {
     "output_type": "display_data",
     "data": {
      "text/html": [
       "<style scoped>\n",
       "  .table-result-container {\n",
       "    max-height: 300px;\n",
       "    overflow: auto;\n",
       "  }\n",
       "  table, th, td {\n",
       "    border: 1px solid black;\n",
       "    border-collapse: collapse;\n",
       "  }\n",
       "  th, td {\n",
       "    padding: 5px;\n",
       "  }\n",
       "  th {\n",
       "    text-align: left;\n",
       "  }\n",
       "</style><div class='table-result-container'><table class='table-result'><thead style='background-color: white'><tr><th>Offence_Level</th><th>Count</th></tr></thead><tbody><tr><td>FELONY</td><td>595185</td></tr><tr><td>MISDEMEANOR</td><td>943705</td></tr><tr><td>VIOLATION</td><td>297575</td></tr></tbody></table></div>"
      ]
     },
     "metadata": {
      "application/vnd.databricks.v1+output": {
       "addedWidgets": {},
       "aggData": [],
       "aggError": "",
       "aggOverflow": false,
       "aggSchema": [],
       "aggSeriesLimitReached": false,
       "aggType": "",
       "arguments": {},
       "columnCustomDisplayInfos": {},
       "data": [
        [
         "FELONY",
         595185
        ],
        [
         "MISDEMEANOR",
         943705
        ],
        [
         "VIOLATION",
         297575
        ]
       ],
       "datasetInfos": [],
       "dbfsResultPath": null,
       "isJsonSchema": true,
       "metadata": {},
       "overflow": false,
       "plotOptions": {
        "customPlotOptions": {},
        "displayType": "table",
        "pivotAggregation": null,
        "pivotColumns": null,
        "xColumns": null,
        "yColumns": null
       },
       "removedWidgets": [],
       "schema": [
        {
         "metadata": "{}",
         "name": "Offence_Level",
         "type": "\"string\""
        },
        {
         "metadata": "{}",
         "name": "Count",
         "type": "\"long\""
        }
       ],
       "type": "table"
      }
     },
     "output_type": "display_data"
    },
    {
     "output_type": "display_data",
     "data": {
      "text/plain": [
       "Databricks visualization. Run in Databricks to view."
      ]
     },
     "metadata": {
      "application/vnd.databricks.v1.subcommand+json": {
       "bindings": {},
       "collapsed": false,
       "command": "%python\n__backend_agg_display_orig = display\n__backend_agg_dfs = []\ndef __backend_agg_display_new(df):\n    __backend_agg_df_modules = [\"pandas.core.frame\", \"databricks.koalas.frame\", \"pyspark.sql.dataframe\", \"pyspark.pandas.frame\", \"pyspark.sql.connect.dataframe\"]\n    if (type(df).__module__ in __backend_agg_df_modules and type(df).__name__ == 'DataFrame') or isinstance(df, list):\n        __backend_agg_dfs.append(df)\n\ndisplay = __backend_agg_display_new\n\ndef __backend_agg_user_code_fn():\n    import base64\n    exec(base64.standard_b64decode(\"ZGlzcGxheShzcGFyay5zcWwoInNlbGVjdCBPZmZlbmNlX0xldmVsLGNvdW50KCopIGFzIENvdW50IGZyb20gbnlwZGRhdGFiYXNlLmRmIGdyb3VwIGJ5IE9mZmVuY2VfTGV2ZWwiKSk=\").decode())\n\ntry:\n    # run user code\n    __backend_agg_user_code_fn()\n\n    #reset display function\n    display = __backend_agg_display_orig\n\n    if len(__backend_agg_dfs) > 0:\n        # create a temp view\n        if type(__backend_agg_dfs[0]).__module__ == \"databricks.koalas.frame\":\n            # koalas dataframe\n            __backend_agg_dfs[0].to_spark().createOrReplaceTempView(\"DatabricksView97a306b\")\n        elif type(__backend_agg_dfs[0]).__module__ == \"pandas.core.frame\" or isinstance(__backend_agg_dfs[0], list):\n            # pandas dataframe\n            spark.createDataFrame(__backend_agg_dfs[0]).createOrReplaceTempView(\"DatabricksView97a306b\")\n        else:\n            __backend_agg_dfs[0].createOrReplaceTempView(\"DatabricksView97a306b\")\n        #run backend agg\n        display(spark.sql(\"\"\"WITH q AS (select * from DatabricksView97a306b) SELECT `Offence_Level`,SUM(`Count`) `column_414de7d213`,`Offence_Level` FROM q GROUP BY `Offence_Level`\"\"\"))\n    else:\n        displayHTML(\"dataframe no longer exists. If you're using dataframe.display(), use display(dataframe) instead.\")\n\n\nfinally:\n    spark.sql(\"drop view if exists DatabricksView97a306b\")\n    display = __backend_agg_display_orig\n    del __backend_agg_display_new\n    del __backend_agg_display_orig\n    del __backend_agg_dfs\n    del __backend_agg_user_code_fn\n\n",
       "commandTitle": "Count plot of Offence_Level",
       "commandType": "auto",
       "commandVersion": 0,
       "commentThread": [],
       "commentsVisible": false,
       "contentSha256Hex": null,
       "customPlotOptions": {
        "redashChart": [
         {
          "key": "type",
          "value": "CHART"
         },
         {
          "key": "options",
          "value": {
           "alignYAxesAtZero": true,
           "coefficient": 1,
           "columnConfigurationMap": {
            "series": {
             "column": "Offence_Level",
             "id": "column_414de7d214"
            },
            "x": {
             "column": "Offence_Level",
             "id": "column_414de7d212"
            },
            "y": [
             {
              "column": "Count",
              "id": "column_414de7d213",
              "transform": "SUM"
             }
            ]
           },
           "dateTimeFormat": "DD/MM/YYYY HH:mm",
           "direction": {
            "type": "counterclockwise"
           },
           "error_y": {
            "type": "data",
            "visible": true
           },
           "globalSeriesType": "column",
           "isAggregationOn": true,
           "legend": {
            "traceorder": "normal"
           },
           "missingValuesAsZero": true,
           "numberFormat": "0,0[.]00000",
           "percentFormat": "0[.]00%",
           "series": {
            "error_y": {
             "type": "data",
             "visible": true
            },
            "stacking": null
           },
           "seriesOptions": {
            "column_414de7d213": {
             "name": "Count",
             "yAxis": 0
            }
           },
           "showDataLabels": false,
           "sizemode": "diameter",
           "sortX": true,
           "sortY": true,
           "swappedAxes": true,
           "textFormat": "",
           "useAggregationsUi": true,
           "valuesOptions": {},
           "version": 2,
           "xAxis": {
            "labels": {
             "enabled": true
            },
            "type": "-"
           },
           "yAxis": [
            {
             "type": "-"
            },
            {
             "opposite": true,
             "type": "-"
            }
           ]
          }
         }
        ]
       },
       "datasetPreviewNameToCmdIdMap": {},
       "diffDeletes": [],
       "diffInserts": [],
       "displayType": "redashChart",
       "error": null,
       "errorSummary": null,
       "errorTraceType": null,
       "finishTime": 0,
       "globalVars": {},
       "guid": "",
       "height": "auto",
       "hideCommandCode": false,
       "hideCommandResult": false,
       "iPythonMetadata": null,
       "inputWidgets": {},
       "isLockedInExamMode": false,
       "latestUser": "a user",
       "latestUserId": null,
       "listResultMetadata": null,
       "metadata": {
        "byteLimit": 2048000,
        "rowLimit": 10000
       },
       "nuid": "b0872a1b-dff4-4cab-bc22-a3f4b7921bfe",
       "origId": 0,
       "parentHierarchy": [],
       "pivotAggregation": null,
       "pivotColumns": null,
       "position": 4.0537109375,
       "resultDbfsErrorMessage": null,
       "resultDbfsStatus": "INLINED_IN_TREE",
       "results": null,
       "showCommandTitle": false,
       "startTime": 0,
       "state": "finished",
       "streamStates": {},
       "subcommandOptions": {
        "queryPlan": {
         "groups": [
          {
           "column": "Offence_Level",
           "type": "column"
          },
          {
           "column": "Offence_Level",
           "type": "column"
          }
         ],
         "selects": [
          {
           "column": "Offence_Level",
           "type": "column"
          },
          {
           "alias": "column_414de7d213",
           "args": [
            {
             "column": "Count",
             "type": "column"
            }
           ],
           "function": "SUM",
           "type": "function"
          },
          {
           "column": "Offence_Level",
           "type": "column"
          }
         ]
        }
       },
       "submitTime": 0,
       "subtype": "tableResultSubCmd.visualization",
       "tableResultIndex": 0,
       "useConsistentColors": false,
       "version": "CommandV1",
       "width": "auto",
       "workflows": [],
       "xColumns": null,
       "yColumns": null
      }
     },
     "output_type": "display_data"
    }
   ],
   "source": [
    "display(spark.sql(\"select Offence_Level,count(*) as Count from nypddatabase.df group by Offence_Level\"))"
   ]
  },
  {
   "cell_type": "code",
   "execution_count": 0,
   "metadata": {
    "application/vnd.databricks.v1+cell": {
     "cellMetadata": {
      "byteLimit": 2048000,
      "rowLimit": 10000
     },
     "inputWidgets": {},
     "nuid": "204121d7-da40-4c57-b872-07e2a6254285",
     "showTitle": false,
     "title": ""
    }
   },
   "outputs": [
    {
     "output_type": "display_data",
     "data": {
      "text/html": [
       "<style scoped>\n",
       "  .table-result-container {\n",
       "    max-height: 300px;\n",
       "    overflow: auto;\n",
       "  }\n",
       "  table, th, td {\n",
       "    border: 1px solid black;\n",
       "    border-collapse: collapse;\n",
       "  }\n",
       "  th, td {\n",
       "    padding: 5px;\n",
       "  }\n",
       "  th {\n",
       "    text-align: left;\n",
       "  }\n",
       "</style><div class='table-result-container'><table class='table-result'><thead style='background-color: white'><tr><th>Offence_Level</th><th>Victim_Sex</th><th>Count</th></tr></thead><tbody><tr><td>MISDEMEANOR</td><td>D</td><td>207978</td></tr><tr><td>MISDEMEANOR</td><td>M</td><td>309288</td></tr><tr><td>FELONY</td><td>M</td><td>235762</td></tr><tr><td>FELONY</td><td>D</td><td>86020</td></tr><tr><td>VIOLATION</td><td>D</td><td>2944</td></tr><tr><td>FELONY</td><td>F</td><td>204177</td></tr><tr><td>VIOLATION</td><td>F</td><td>187309</td></tr><tr><td>FELONY</td><td>E</td><td>67985</td></tr><tr><td>MISDEMEANOR</td><td>F</td><td>331937</td></tr><tr><td>MISDEMEANOR</td><td>E</td><td>94000</td></tr><tr><td>VIOLATION</td><td>E</td><td>1496</td></tr><tr><td>VIOLATION</td><td>M</td><td>105757</td></tr><tr><td>FELONY</td><td>L</td><td>1241</td></tr><tr><td>MISDEMEANOR</td><td>L</td><td>502</td></tr><tr><td>VIOLATION</td><td>L</td><td>69</td></tr></tbody></table></div>"
      ]
     },
     "metadata": {
      "application/vnd.databricks.v1+output": {
       "addedWidgets": {},
       "aggData": [],
       "aggError": "",
       "aggOverflow": false,
       "aggSchema": [],
       "aggSeriesLimitReached": false,
       "aggType": "",
       "arguments": {},
       "columnCustomDisplayInfos": {},
       "data": [
        [
         "MISDEMEANOR",
         "D",
         207978
        ],
        [
         "MISDEMEANOR",
         "M",
         309288
        ],
        [
         "FELONY",
         "M",
         235762
        ],
        [
         "FELONY",
         "D",
         86020
        ],
        [
         "VIOLATION",
         "D",
         2944
        ],
        [
         "FELONY",
         "F",
         204177
        ],
        [
         "VIOLATION",
         "F",
         187309
        ],
        [
         "FELONY",
         "E",
         67985
        ],
        [
         "MISDEMEANOR",
         "F",
         331937
        ],
        [
         "MISDEMEANOR",
         "E",
         94000
        ],
        [
         "VIOLATION",
         "E",
         1496
        ],
        [
         "VIOLATION",
         "M",
         105757
        ],
        [
         "FELONY",
         "L",
         1241
        ],
        [
         "MISDEMEANOR",
         "L",
         502
        ],
        [
         "VIOLATION",
         "L",
         69
        ]
       ],
       "datasetInfos": [],
       "dbfsResultPath": null,
       "isJsonSchema": true,
       "metadata": {},
       "overflow": false,
       "plotOptions": {
        "customPlotOptions": {},
        "displayType": "table",
        "pivotAggregation": null,
        "pivotColumns": null,
        "xColumns": null,
        "yColumns": null
       },
       "removedWidgets": [],
       "schema": [
        {
         "metadata": "{}",
         "name": "Offence_Level",
         "type": "\"string\""
        },
        {
         "metadata": "{}",
         "name": "Victim_Sex",
         "type": "\"string\""
        },
        {
         "metadata": "{}",
         "name": "Count",
         "type": "\"long\""
        }
       ],
       "type": "table"
      }
     },
     "output_type": "display_data"
    },
    {
     "output_type": "display_data",
     "data": {
      "text/plain": [
       "Databricks visualization. Run in Databricks to view."
      ]
     },
     "metadata": {
      "application/vnd.databricks.v1.subcommand+json": {
       "bindings": {},
       "collapsed": false,
       "command": "%python\n__backend_agg_display_orig = display\n__backend_agg_dfs = []\ndef __backend_agg_display_new(df):\n    __backend_agg_df_modules = [\"pandas.core.frame\", \"databricks.koalas.frame\", \"pyspark.sql.dataframe\", \"pyspark.pandas.frame\", \"pyspark.sql.connect.dataframe\"]\n    if (type(df).__module__ in __backend_agg_df_modules and type(df).__name__ == 'DataFrame') or isinstance(df, list):\n        __backend_agg_dfs.append(df)\n\ndisplay = __backend_agg_display_new\n\ndef __backend_agg_user_code_fn():\n    import base64\n    exec(base64.standard_b64decode(\"ZGlzcGxheShzcGFyay5zcWwoInNlbGVjdCBPZmZlbmNlX0xldmVsLFZpY3RpbV9TZXgsY291bnQoKikgYXMgQ291bnQgZnJvbSBueXBkZGF0YWJhc2UuZGYgZ3JvdXAgYnkgT2ZmZW5jZV9MZXZlbCxWaWN0aW1fU2V4Iikp\").decode())\n\ntry:\n    # run user code\n    __backend_agg_user_code_fn()\n\n    #reset display function\n    display = __backend_agg_display_orig\n\n    if len(__backend_agg_dfs) > 0:\n        # create a temp view\n        if type(__backend_agg_dfs[0]).__module__ == \"databricks.koalas.frame\":\n            # koalas dataframe\n            __backend_agg_dfs[0].to_spark().createOrReplaceTempView(\"DatabricksViewaffd8b1\")\n        elif type(__backend_agg_dfs[0]).__module__ == \"pandas.core.frame\" or isinstance(__backend_agg_dfs[0], list):\n            # pandas dataframe\n            spark.createDataFrame(__backend_agg_dfs[0]).createOrReplaceTempView(\"DatabricksViewaffd8b1\")\n        else:\n            __backend_agg_dfs[0].createOrReplaceTempView(\"DatabricksViewaffd8b1\")\n        #run backend agg\n        display(spark.sql(\"\"\"WITH q AS (select * from DatabricksViewaffd8b1) SELECT `Offence_Level`,`Victim_Sex`,SUM(`Count`) `column_414de7d220` FROM q GROUP BY `Offence_Level`,`Victim_Sex`\"\"\"))\n    else:\n        displayHTML(\"dataframe no longer exists. If you're using dataframe.display(), use display(dataframe) instead.\")\n\n\nfinally:\n    spark.sql(\"drop view if exists DatabricksViewaffd8b1\")\n    display = __backend_agg_display_orig\n    del __backend_agg_display_new\n    del __backend_agg_display_orig\n    del __backend_agg_dfs\n    del __backend_agg_user_code_fn\n\n",
       "commandTitle": "count by Offence_Level & Victim_Sex",
       "commandType": "auto",
       "commandVersion": 0,
       "commentThread": [],
       "commentsVisible": false,
       "contentSha256Hex": null,
       "customPlotOptions": {
        "redashChart": [
         {
          "key": "type",
          "value": "CHART"
         },
         {
          "key": "options",
          "value": {
           "alignYAxesAtZero": true,
           "coefficient": 1,
           "columnConfigurationMap": {
            "series": {
             "column": "Victim_Sex",
             "id": "column_414de7d219"
            },
            "x": {
             "column": "Offence_Level",
             "id": "column_414de7d218"
            },
            "y": [
             {
              "column": "Count",
              "id": "column_414de7d220",
              "transform": "SUM"
             }
            ]
           },
           "dateTimeFormat": "DD/MM/YYYY HH:mm",
           "direction": {
            "type": "counterclockwise"
           },
           "error_y": {
            "type": "data",
            "visible": true
           },
           "globalSeriesType": "pie",
           "legend": {
            "traceorder": "normal"
           },
           "missingValuesAsZero": true,
           "numberFormat": "0,0[.]00000",
           "percentFormat": "0[.]00%",
           "series": {
            "error_y": {
             "type": "data",
             "visible": true
            }
           },
           "seriesOptions": {
            "column_414de7d220": {
             "name": "Count",
             "type": "pie",
             "yAxis": 0
            }
           },
           "showDataLabels": true,
           "sizemode": "diameter",
           "sortX": true,
           "sortY": true,
           "swappedAxes": false,
           "textFormat": "",
           "useAggregationsUi": true,
           "valuesOptions": {},
           "version": 2,
           "xAxis": {
            "labels": {
             "enabled": true
            },
            "type": "-"
           },
           "yAxis": [
            {
             "type": "-"
            },
            {
             "opposite": true,
             "type": "-"
            }
           ]
          }
         }
        ]
       },
       "datasetPreviewNameToCmdIdMap": {},
       "diffDeletes": [],
       "diffInserts": [],
       "displayType": "redashChart",
       "error": null,
       "errorSummary": null,
       "errorTraceType": null,
       "finishTime": 0,
       "globalVars": {},
       "guid": "",
       "height": "auto",
       "hideCommandCode": false,
       "hideCommandResult": false,
       "iPythonMetadata": null,
       "inputWidgets": {},
       "isLockedInExamMode": false,
       "latestUser": "a user",
       "latestUserId": null,
       "listResultMetadata": null,
       "metadata": {
        "byteLimit": 2048000,
        "rowLimit": 10000
       },
       "nuid": "150dada0-50cb-4cbf-a59c-c139e8aecf44",
       "origId": 0,
       "parentHierarchy": [],
       "pivotAggregation": null,
       "pivotColumns": null,
       "position": 4.0546875,
       "resultDbfsErrorMessage": null,
       "resultDbfsStatus": "INLINED_IN_TREE",
       "results": null,
       "showCommandTitle": false,
       "startTime": 0,
       "state": "finished",
       "streamStates": {},
       "subcommandOptions": {
        "queryPlan": {
         "groups": [
          {
           "column": "Offence_Level",
           "type": "column"
          },
          {
           "column": "Victim_Sex",
           "type": "column"
          }
         ],
         "selects": [
          {
           "column": "Offence_Level",
           "type": "column"
          },
          {
           "column": "Victim_Sex",
           "type": "column"
          },
          {
           "alias": "column_414de7d220",
           "args": [
            {
             "column": "Count",
             "type": "column"
            }
           ],
           "function": "SUM",
           "type": "function"
          }
         ]
        }
       },
       "submitTime": 0,
       "subtype": "tableResultSubCmd.visualization",
       "tableResultIndex": 0,
       "useConsistentColors": false,
       "version": "CommandV1",
       "width": "auto",
       "workflows": [],
       "xColumns": null,
       "yColumns": null
      }
     },
     "output_type": "display_data"
    }
   ],
   "source": [
    "display(spark.sql(\"select Offence_Level,Victim_Sex,count(*) as Count from nypddatabase.df group by Offence_Level,Victim_Sex\"))"
   ]
  },
  {
   "cell_type": "code",
   "execution_count": 0,
   "metadata": {
    "application/vnd.databricks.v1+cell": {
     "cellMetadata": {
      "byteLimit": 2048000,
      "rowLimit": 10000
     },
     "inputWidgets": {},
     "nuid": "5d33af68-1bd7-449d-a7c1-cd0721366e07",
     "showTitle": false,
     "title": ""
    }
   },
   "outputs": [
    {
     "output_type": "display_data",
     "data": {
      "text/html": [
       "<style scoped>\n",
       "  .table-result-container {\n",
       "    max-height: 300px;\n",
       "    overflow: auto;\n",
       "  }\n",
       "  table, th, td {\n",
       "    border: 1px solid black;\n",
       "    border-collapse: collapse;\n",
       "  }\n",
       "  th, td {\n",
       "    padding: 5px;\n",
       "  }\n",
       "  th {\n",
       "    text-align: left;\n",
       "  }\n",
       "</style><div class='table-result-container'><table class='table-result'><thead style='background-color: white'><tr><th>Offence_Type</th><th>Count</th></tr></thead><tbody><tr><td>PETIT LARCENY</td><td>371089</td></tr><tr><td>HARRASSMENT 2</td><td>294865</td></tr><tr><td>ASSAULT 3 & RELATED OFFENSES</td><td>199188</td></tr><tr><td>CRIMINAL MISCHIEF & RELATED OF</td><td>182394</td></tr><tr><td>GRAND LARCENY</td><td>168228</td></tr><tr><td>FELONY ASSAULT</td><td>89846</td></tr><tr><td>OFF. AGNST PUB ORD SENSBLTY &</td><td>70070</td></tr><tr><td>ROBBERY</td><td>57620</td></tr><tr><td>MISCELLANEOUS PENAL LAW</td><td>57131</td></tr><tr><td>BURGLARY</td><td>54616</td></tr></tbody></table></div>"
      ]
     },
     "metadata": {
      "application/vnd.databricks.v1+output": {
       "addedWidgets": {},
       "aggData": [],
       "aggError": "",
       "aggOverflow": false,
       "aggSchema": [],
       "aggSeriesLimitReached": false,
       "aggType": "",
       "arguments": {},
       "columnCustomDisplayInfos": {},
       "data": [
        [
         "PETIT LARCENY",
         371089
        ],
        [
         "HARRASSMENT 2",
         294865
        ],
        [
         "ASSAULT 3 & RELATED OFFENSES",
         199188
        ],
        [
         "CRIMINAL MISCHIEF & RELATED OF",
         182394
        ],
        [
         "GRAND LARCENY",
         168228
        ],
        [
         "FELONY ASSAULT",
         89846
        ],
        [
         "OFF. AGNST PUB ORD SENSBLTY &",
         70070
        ],
        [
         "ROBBERY",
         57620
        ],
        [
         "MISCELLANEOUS PENAL LAW",
         57131
        ],
        [
         "BURGLARY",
         54616
        ]
       ],
       "datasetInfos": [],
       "dbfsResultPath": null,
       "isJsonSchema": true,
       "metadata": {},
       "overflow": false,
       "plotOptions": {
        "customPlotOptions": {},
        "displayType": "table",
        "pivotAggregation": null,
        "pivotColumns": null,
        "xColumns": null,
        "yColumns": null
       },
       "removedWidgets": [],
       "schema": [
        {
         "metadata": "{}",
         "name": "Offence_Type",
         "type": "\"string\""
        },
        {
         "metadata": "{}",
         "name": "Count",
         "type": "\"long\""
        }
       ],
       "type": "table"
      }
     },
     "output_type": "display_data"
    },
    {
     "output_type": "display_data",
     "data": {
      "text/plain": [
       "Databricks visualization. Run in Databricks to view."
      ]
     },
     "metadata": {
      "application/vnd.databricks.v1.subcommand+json": {
       "bindings": {},
       "collapsed": false,
       "command": "%python\n__backend_agg_display_orig = display\n__backend_agg_dfs = []\ndef __backend_agg_display_new(df):\n    __backend_agg_df_modules = [\"pandas.core.frame\", \"databricks.koalas.frame\", \"pyspark.sql.dataframe\", \"pyspark.pandas.frame\", \"pyspark.sql.connect.dataframe\"]\n    if (type(df).__module__ in __backend_agg_df_modules and type(df).__name__ == 'DataFrame') or isinstance(df, list):\n        __backend_agg_dfs.append(df)\n\ndisplay = __backend_agg_display_new\n\ndef __backend_agg_user_code_fn():\n    import base64\n    exec(base64.standard_b64decode(\"ZGlzcGxheShzcGFyay5zcWwoInNlbGVjdCBPZmZlbmNlX1R5cGUsY291bnQoKikgYXMgQ291bnQgZnJvbSBueXBkZGF0YWJhc2UuZGYgZ3JvdXAgYnkgT2ZmZW5jZV9UeXBlIG9yZGVyIGJ5IENvdW50IGRlc2MgbGltaXQgMTAiKSk=\").decode())\n\ntry:\n    # run user code\n    __backend_agg_user_code_fn()\n\n    #reset display function\n    display = __backend_agg_display_orig\n\n    if len(__backend_agg_dfs) > 0:\n        # create a temp view\n        if type(__backend_agg_dfs[0]).__module__ == \"databricks.koalas.frame\":\n            # koalas dataframe\n            __backend_agg_dfs[0].to_spark().createOrReplaceTempView(\"DatabricksView2afbf3e\")\n        elif type(__backend_agg_dfs[0]).__module__ == \"pandas.core.frame\" or isinstance(__backend_agg_dfs[0], list):\n            # pandas dataframe\n            spark.createDataFrame(__backend_agg_dfs[0]).createOrReplaceTempView(\"DatabricksView2afbf3e\")\n        else:\n            __backend_agg_dfs[0].createOrReplaceTempView(\"DatabricksView2afbf3e\")\n        #run backend agg\n        display(spark.sql(\"\"\"WITH q AS (select * from DatabricksView2afbf3e) SELECT `Offence_Type`,SUM(`Count`) `column_414de7d230` FROM q GROUP BY `Offence_Type`\"\"\"))\n    else:\n        displayHTML(\"dataframe no longer exists. If you're using dataframe.display(), use display(dataframe) instead.\")\n\n\nfinally:\n    spark.sql(\"drop view if exists DatabricksView2afbf3e\")\n    display = __backend_agg_display_orig\n    del __backend_agg_display_new\n    del __backend_agg_display_orig\n    del __backend_agg_dfs\n    del __backend_agg_user_code_fn\n\n",
       "commandTitle": "Top 10 Offence_Type",
       "commandType": "auto",
       "commandVersion": 0,
       "commentThread": [],
       "commentsVisible": false,
       "contentSha256Hex": null,
       "customPlotOptions": {
        "redashChart": [
         {
          "key": "type",
          "value": "CHART"
         },
         {
          "key": "options",
          "value": {
           "alignYAxesAtZero": true,
           "coefficient": 1,
           "columnConfigurationMap": {
            "x": {
             "column": "Offence_Type",
             "id": "column_414de7d229"
            },
            "y": [
             {
              "column": "Count",
              "id": "column_414de7d230",
              "transform": "SUM"
             }
            ]
           },
           "dateTimeFormat": "DD/MM/YYYY HH:mm",
           "direction": {
            "type": "counterclockwise"
           },
           "error_y": {
            "type": "data",
            "visible": true
           },
           "globalSeriesType": "area",
           "legend": {
            "traceorder": "normal"
           },
           "missingValuesAsZero": true,
           "numberFormat": "0,0[.]00000",
           "percentFormat": "0[.]00%",
           "series": {
            "error_y": {
             "type": "data",
             "visible": true
            },
            "stacking": null
           },
           "seriesOptions": {
            "column_414de7d230": {
             "name": "Count",
             "type": "area",
             "yAxis": 0
            }
           },
           "showDataLabels": false,
           "sizemode": "diameter",
           "sortX": true,
           "sortY": true,
           "swappedAxes": false,
           "textFormat": "",
           "useAggregationsUi": true,
           "valuesOptions": {},
           "version": 2,
           "xAxis": {
            "labels": {
             "enabled": true
            },
            "type": "-"
           },
           "yAxis": [
            {
             "type": "-"
            },
            {
             "opposite": true,
             "type": "-"
            }
           ]
          }
         }
        ]
       },
       "datasetPreviewNameToCmdIdMap": {},
       "diffDeletes": [],
       "diffInserts": [],
       "displayType": "redashChart",
       "error": null,
       "errorSummary": null,
       "errorTraceType": null,
       "finishTime": 0,
       "globalVars": {},
       "guid": "",
       "height": "auto",
       "hideCommandCode": false,
       "hideCommandResult": false,
       "iPythonMetadata": null,
       "inputWidgets": {},
       "isLockedInExamMode": false,
       "latestUser": "a user",
       "latestUserId": null,
       "listResultMetadata": null,
       "metadata": {
        "byteLimit": 2048000,
        "rowLimit": 10000
       },
       "nuid": "01cd7fd4-1319-4a1f-ac0e-82d10dc179b0",
       "origId": 0,
       "parentHierarchy": [],
       "pivotAggregation": null,
       "pivotColumns": null,
       "position": 4.054931640625,
       "resultDbfsErrorMessage": null,
       "resultDbfsStatus": "INLINED_IN_TREE",
       "results": null,
       "showCommandTitle": false,
       "startTime": 0,
       "state": "finished",
       "streamStates": {},
       "subcommandOptions": {
        "queryPlan": {
         "groups": [
          {
           "column": "Offence_Type",
           "type": "column"
          }
         ],
         "selects": [
          {
           "column": "Offence_Type",
           "type": "column"
          },
          {
           "alias": "column_414de7d230",
           "args": [
            {
             "column": "Count",
             "type": "column"
            }
           ],
           "function": "SUM",
           "type": "function"
          }
         ]
        }
       },
       "submitTime": 0,
       "subtype": "tableResultSubCmd.visualization",
       "tableResultIndex": 0,
       "useConsistentColors": false,
       "version": "CommandV1",
       "width": "auto",
       "workflows": [],
       "xColumns": null,
       "yColumns": null
      }
     },
     "output_type": "display_data"
    }
   ],
   "source": [
    "display(spark.sql(\"select Offence_Type,count(*) as Count from nypddatabase.df group by Offence_Type order by Count desc limit 10\"))"
   ]
  },
  {
   "cell_type": "code",
   "execution_count": 0,
   "metadata": {
    "application/vnd.databricks.v1+cell": {
     "cellMetadata": {
      "byteLimit": 2048000,
      "rowLimit": 10000
     },
     "inputWidgets": {},
     "nuid": "943fa380-7bc3-4ac1-92ae-abb62982fdac",
     "showTitle": false,
     "title": ""
    }
   },
   "outputs": [
    {
     "output_type": "display_data",
     "data": {
      "text/html": [
       "<style scoped>\n",
       "  .table-result-container {\n",
       "    max-height: 300px;\n",
       "    overflow: auto;\n",
       "  }\n",
       "  table, th, td {\n",
       "    border: 1px solid black;\n",
       "    border-collapse: collapse;\n",
       "  }\n",
       "  th, td {\n",
       "    padding: 5px;\n",
       "  }\n",
       "  th {\n",
       "    text-align: left;\n",
       "  }\n",
       "</style><div class='table-result-container'><table class='table-result'><thead style='background-color: white'><tr><th>Offence_Level</th><th>Year</th><th>Count</th></tr></thead><tbody><tr><td>VIOLATION</td><td>2021</td><td>75211</td></tr><tr><td>MISDEMEANOR</td><td>2021</td><td>223772</td></tr><tr><td>FELONY</td><td>2021</td><td>147867</td></tr><tr><td>VIOLATION</td><td>2020</td><td>67180</td></tr><tr><td>FELONY</td><td>2020</td><td>134051</td></tr><tr><td>MISDEMEANOR</td><td>2020</td><td>211467</td></tr><tr><td>MISDEMEANOR</td><td>2019</td><td>243794</td></tr><tr><td>FELONY</td><td>2019</td><td>140424</td></tr><tr><td>VIOLATION</td><td>2019</td><td>72113</td></tr><tr><td>FELONY</td><td>2022</td><td>172843</td></tr><tr><td>MISDEMEANOR</td><td>2022</td><td>264672</td></tr><tr><td>VIOLATION</td><td>2022</td><td>83071</td></tr></tbody></table></div>"
      ]
     },
     "metadata": {
      "application/vnd.databricks.v1+output": {
       "addedWidgets": {},
       "aggData": [],
       "aggError": "",
       "aggOverflow": false,
       "aggSchema": [],
       "aggSeriesLimitReached": false,
       "aggType": "",
       "arguments": {},
       "columnCustomDisplayInfos": {},
       "data": [
        [
         "VIOLATION",
         2021,
         75211
        ],
        [
         "MISDEMEANOR",
         2021,
         223772
        ],
        [
         "FELONY",
         2021,
         147867
        ],
        [
         "VIOLATION",
         2020,
         67180
        ],
        [
         "FELONY",
         2020,
         134051
        ],
        [
         "MISDEMEANOR",
         2020,
         211467
        ],
        [
         "MISDEMEANOR",
         2019,
         243794
        ],
        [
         "FELONY",
         2019,
         140424
        ],
        [
         "VIOLATION",
         2019,
         72113
        ],
        [
         "FELONY",
         2022,
         172843
        ],
        [
         "MISDEMEANOR",
         2022,
         264672
        ],
        [
         "VIOLATION",
         2022,
         83071
        ]
       ],
       "datasetInfos": [],
       "dbfsResultPath": null,
       "isJsonSchema": true,
       "metadata": {},
       "overflow": false,
       "plotOptions": {
        "customPlotOptions": {},
        "displayType": "table",
        "pivotAggregation": null,
        "pivotColumns": null,
        "xColumns": null,
        "yColumns": null
       },
       "removedWidgets": [],
       "schema": [
        {
         "metadata": "{}",
         "name": "Offence_Level",
         "type": "\"string\""
        },
        {
         "metadata": "{}",
         "name": "Year",
         "type": "\"integer\""
        },
        {
         "metadata": "{}",
         "name": "Count",
         "type": "\"long\""
        }
       ],
       "type": "table"
      }
     },
     "output_type": "display_data"
    },
    {
     "output_type": "display_data",
     "data": {
      "text/plain": [
       "Databricks visualization. Run in Databricks to view."
      ]
     },
     "metadata": {
      "application/vnd.databricks.v1.subcommand+json": {
       "bindings": {},
       "collapsed": false,
       "command": "%python\n__backend_agg_display_orig = display\n__backend_agg_dfs = []\ndef __backend_agg_display_new(df):\n    __backend_agg_df_modules = [\"pandas.core.frame\", \"databricks.koalas.frame\", \"pyspark.sql.dataframe\", \"pyspark.pandas.frame\", \"pyspark.sql.connect.dataframe\"]\n    if (type(df).__module__ in __backend_agg_df_modules and type(df).__name__ == 'DataFrame') or isinstance(df, list):\n        __backend_agg_dfs.append(df)\n\ndisplay = __backend_agg_display_new\n\ndef __backend_agg_user_code_fn():\n    import base64\n    exec(base64.standard_b64decode(\"ZGlzcGxheShzcGFyay5zcWwoInNlbGVjdCBPZmZlbmNlX0xldmVsLFllYXIsY291bnQoKikgYXMgQ291bnQgZnJvbSBueXBkZGF0YWJhc2UuZGYgZ3JvdXAgYnkgT2ZmZW5jZV9MZXZlbCwgWWVhciIpKQ==\").decode())\n\ntry:\n    # run user code\n    __backend_agg_user_code_fn()\n\n    #reset display function\n    display = __backend_agg_display_orig\n\n    if len(__backend_agg_dfs) > 0:\n        # create a temp view\n        if type(__backend_agg_dfs[0]).__module__ == \"databricks.koalas.frame\":\n            # koalas dataframe\n            __backend_agg_dfs[0].to_spark().createOrReplaceTempView(\"DatabricksViewdf834d9\")\n        elif type(__backend_agg_dfs[0]).__module__ == \"pandas.core.frame\" or isinstance(__backend_agg_dfs[0], list):\n            # pandas dataframe\n            spark.createDataFrame(__backend_agg_dfs[0]).createOrReplaceTempView(\"DatabricksViewdf834d9\")\n        else:\n            __backend_agg_dfs[0].createOrReplaceTempView(\"DatabricksViewdf834d9\")\n        #run backend agg\n        display(spark.sql(\"\"\"WITH q AS (select * from DatabricksViewdf834d9) SELECT `Year`,SUM(`Count`) `column_414de7d232`,`Offence_Level` FROM q GROUP BY `Offence_Level`,`Year`\"\"\"))\n    else:\n        displayHTML(\"dataframe no longer exists. If you're using dataframe.display(), use display(dataframe) instead.\")\n\n\nfinally:\n    spark.sql(\"drop view if exists DatabricksViewdf834d9\")\n    display = __backend_agg_display_orig\n    del __backend_agg_display_new\n    del __backend_agg_display_orig\n    del __backend_agg_dfs\n    del __backend_agg_user_code_fn\n\n",
       "commandTitle": "Year wise offence level count",
       "commandType": "auto",
       "commandVersion": 0,
       "commentThread": [],
       "commentsVisible": false,
       "contentSha256Hex": null,
       "customPlotOptions": {
        "redashChart": [
         {
          "key": "type",
          "value": "CHART"
         },
         {
          "key": "options",
          "value": {
           "alignYAxesAtZero": true,
           "coefficient": 1,
           "columnConfigurationMap": {
            "series": {
             "column": "Offence_Level",
             "id": "column_414de7d233"
            },
            "x": {
             "column": "Year",
             "id": "column_414de7d231"
            },
            "y": [
             {
              "column": "Count",
              "id": "column_414de7d232",
              "transform": "SUM"
             }
            ]
           },
           "dateTimeFormat": "DD/MM/YYYY HH:mm",
           "direction": {
            "type": "counterclockwise"
           },
           "error_y": {
            "type": "data",
            "visible": true
           },
           "globalSeriesType": "pie",
           "isAggregationOn": true,
           "legend": {
            "traceorder": "normal"
           },
           "missingValuesAsZero": true,
           "numberFormat": "0,0[.]00000",
           "percentFormat": "0[.]00%",
           "series": {
            "error_y": {
             "type": "data",
             "visible": true
            },
            "stacking": null
           },
           "seriesOptions": {
            "column_414de7d232": {
             "name": "Count",
             "type": "pie",
             "yAxis": 0
            }
           },
           "showDataLabels": true,
           "sizemode": "diameter",
           "sortX": true,
           "sortY": true,
           "swappedAxes": false,
           "textFormat": "",
           "useAggregationsUi": true,
           "valuesOptions": {},
           "version": 2,
           "xAxis": {
            "labels": {
             "enabled": true
            },
            "type": "-"
           },
           "yAxis": [
            {
             "type": "-"
            },
            {
             "opposite": true,
             "type": "-"
            }
           ]
          }
         }
        ]
       },
       "datasetPreviewNameToCmdIdMap": {},
       "diffDeletes": [],
       "diffInserts": [],
       "displayType": "redashChart",
       "error": null,
       "errorSummary": null,
       "errorTraceType": null,
       "finishTime": 0,
       "globalVars": {},
       "guid": "",
       "height": "auto",
       "hideCommandCode": false,
       "hideCommandResult": false,
       "iPythonMetadata": null,
       "inputWidgets": {},
       "isLockedInExamMode": false,
       "latestUser": "a user",
       "latestUserId": null,
       "listResultMetadata": null,
       "metadata": {
        "byteLimit": 2048000,
        "rowLimit": 10000
       },
       "nuid": "99f6ec08-babc-4f7a-9c50-a9c19a6dab56",
       "origId": 0,
       "parentHierarchy": [],
       "pivotAggregation": null,
       "pivotColumns": null,
       "position": 4.0550537109375,
       "resultDbfsErrorMessage": null,
       "resultDbfsStatus": "INLINED_IN_TREE",
       "results": null,
       "showCommandTitle": false,
       "startTime": 0,
       "state": "finished",
       "streamStates": {},
       "subcommandOptions": {
        "queryPlan": {
         "groups": [
          {
           "column": "Year",
           "type": "column"
          },
          {
           "column": "Offence_Level",
           "type": "column"
          }
         ],
         "selects": [
          {
           "column": "Year",
           "type": "column"
          },
          {
           "alias": "column_414de7d232",
           "args": [
            {
             "column": "Count",
             "type": "column"
            }
           ],
           "function": "SUM",
           "type": "function"
          },
          {
           "column": "Offence_Level",
           "type": "column"
          }
         ]
        }
       },
       "submitTime": 0,
       "subtype": "tableResultSubCmd.visualization",
       "tableResultIndex": 0,
       "useConsistentColors": false,
       "version": "CommandV1",
       "width": "auto",
       "workflows": [],
       "xColumns": null,
       "yColumns": null
      }
     },
     "output_type": "display_data"
    }
   ],
   "source": [
    "display(spark.sql(\"select Offence_Level,Year,count(*) as Count from nypddatabase.df group by Offence_Level, Year\"))"
   ]
  },
  {
   "cell_type": "code",
   "execution_count": 0,
   "metadata": {
    "application/vnd.databricks.v1+cell": {
     "cellMetadata": {
      "byteLimit": 2048000,
      "rowLimit": 10000
     },
     "inputWidgets": {},
     "nuid": "69dff3e5-ef4c-4324-b9cf-5f02b78d8f7d",
     "showTitle": false,
     "title": ""
    }
   },
   "outputs": [
    {
     "output_type": "display_data",
     "data": {
      "text/html": [
       "<style scoped>\n",
       "  .table-result-container {\n",
       "    max-height: 300px;\n",
       "    overflow: auto;\n",
       "  }\n",
       "  table, th, td {\n",
       "    border: 1px solid black;\n",
       "    border-collapse: collapse;\n",
       "  }\n",
       "  th, td {\n",
       "    padding: 5px;\n",
       "  }\n",
       "  th {\n",
       "    text-align: left;\n",
       "  }\n",
       "</style><div class='table-result-container'><table class='table-result'><thead style='background-color: white'><tr><th>Victim_Agegroup</th><th>Count</th></tr></thead><tbody><tr><td>Senior</td><td>1099881</td></tr><tr><td>Teenager</td><td>63260</td></tr><tr><td>Middle Age</td><td>673324</td></tr></tbody></table></div>"
      ]
     },
     "metadata": {
      "application/vnd.databricks.v1+output": {
       "addedWidgets": {},
       "aggData": [],
       "aggError": "",
       "aggOverflow": false,
       "aggSchema": [],
       "aggSeriesLimitReached": false,
       "aggType": "",
       "arguments": {},
       "columnCustomDisplayInfos": {},
       "data": [
        [
         "Senior",
         1099881
        ],
        [
         "Teenager",
         63260
        ],
        [
         "Middle Age",
         673324
        ]
       ],
       "datasetInfos": [],
       "dbfsResultPath": null,
       "isJsonSchema": true,
       "metadata": {},
       "overflow": false,
       "plotOptions": {
        "customPlotOptions": {},
        "displayType": "table",
        "pivotAggregation": null,
        "pivotColumns": null,
        "xColumns": null,
        "yColumns": null
       },
       "removedWidgets": [],
       "schema": [
        {
         "metadata": "{}",
         "name": "Victim_Agegroup",
         "type": "\"string\""
        },
        {
         "metadata": "{}",
         "name": "Count",
         "type": "\"long\""
        }
       ],
       "type": "table"
      }
     },
     "output_type": "display_data"
    },
    {
     "output_type": "display_data",
     "data": {
      "text/plain": [
       "Databricks visualization. Run in Databricks to view."
      ]
     },
     "metadata": {
      "application/vnd.databricks.v1.subcommand+json": {
       "bindings": {},
       "collapsed": false,
       "command": "%python\n__backend_agg_display_orig = display\n__backend_agg_dfs = []\ndef __backend_agg_display_new(df):\n    __backend_agg_df_modules = [\"pandas.core.frame\", \"databricks.koalas.frame\", \"pyspark.sql.dataframe\", \"pyspark.pandas.frame\", \"pyspark.sql.connect.dataframe\"]\n    if (type(df).__module__ in __backend_agg_df_modules and type(df).__name__ == 'DataFrame') or isinstance(df, list):\n        __backend_agg_dfs.append(df)\n\ndisplay = __backend_agg_display_new\n\ndef __backend_agg_user_code_fn():\n    import base64\n    exec(base64.standard_b64decode(\"ZGlzcGxheShzcGFyay5zcWwoInNlbGVjdCBWaWN0aW1fQWdlZ3JvdXAsY291bnQoKikgYXMgQ291bnQgZnJvbSBueXBkZGF0YWJhc2UuZGYgZ3JvdXAgYnkgVmljdGltX0FnZWdyb3VwIikp\").decode())\n\ntry:\n    # run user code\n    __backend_agg_user_code_fn()\n\n    #reset display function\n    display = __backend_agg_display_orig\n\n    if len(__backend_agg_dfs) > 0:\n        # create a temp view\n        if type(__backend_agg_dfs[0]).__module__ == \"databricks.koalas.frame\":\n            # koalas dataframe\n            __backend_agg_dfs[0].to_spark().createOrReplaceTempView(\"DatabricksViewb6c441a\")\n        elif type(__backend_agg_dfs[0]).__module__ == \"pandas.core.frame\" or isinstance(__backend_agg_dfs[0], list):\n            # pandas dataframe\n            spark.createDataFrame(__backend_agg_dfs[0]).createOrReplaceTempView(\"DatabricksViewb6c441a\")\n        else:\n            __backend_agg_dfs[0].createOrReplaceTempView(\"DatabricksViewb6c441a\")\n        #run backend agg\n        display(spark.sql(\"\"\"WITH q AS (select * from DatabricksViewb6c441a) SELECT `Victim_Agegroup`,SUM(`Count`) `column_414de7d247`,`Victim_Agegroup` FROM q GROUP BY `Victim_Agegroup`\"\"\"))\n    else:\n        displayHTML(\"dataframe no longer exists. If you're using dataframe.display(), use display(dataframe) instead.\")\n\n\nfinally:\n    spark.sql(\"drop view if exists DatabricksViewb6c441a\")\n    display = __backend_agg_display_orig\n    del __backend_agg_display_new\n    del __backend_agg_display_orig\n    del __backend_agg_dfs\n    del __backend_agg_user_code_fn\n\n",
       "commandTitle": "victim_Agegroup countplot",
       "commandType": "auto",
       "commandVersion": 0,
       "commentThread": [],
       "commentsVisible": false,
       "contentSha256Hex": null,
       "customPlotOptions": {
        "redashChart": [
         {
          "key": "type",
          "value": "CHART"
         },
         {
          "key": "options",
          "value": {
           "alignYAxesAtZero": true,
           "coefficient": 1,
           "columnConfigurationMap": {
            "series": {
             "column": "Victim_Agegroup",
             "id": "column_414de7d250"
            },
            "x": {
             "column": "Victim_Agegroup",
             "id": "column_414de7d246"
            },
            "y": [
             {
              "column": "Count",
              "id": "column_414de7d247",
              "transform": "SUM"
             }
            ]
           },
           "dateTimeFormat": "DD/MM/YYYY HH:mm",
           "direction": {
            "type": "counterclockwise"
           },
           "error_y": {
            "type": "data",
            "visible": true
           },
           "globalSeriesType": "column",
           "isAggregationOn": true,
           "legend": {
            "traceorder": "normal"
           },
           "missingValuesAsZero": true,
           "numberFormat": "0,0[.]00000",
           "percentFormat": "0[.]00%",
           "series": {
            "error_y": {
             "type": "data",
             "visible": true
            },
            "stacking": null
           },
           "seriesOptions": {
            "column_414de7d247": {
             "name": "Count",
             "type": "column",
             "yAxis": 0
            }
           },
           "showDataLabels": false,
           "sizemode": "diameter",
           "sortX": true,
           "sortY": true,
           "swappedAxes": false,
           "textFormat": "",
           "useAggregationsUi": true,
           "valuesOptions": {},
           "version": 2,
           "xAxis": {
            "labels": {
             "enabled": true
            },
            "type": "-"
           },
           "yAxis": [
            {
             "type": "-"
            },
            {
             "opposite": true,
             "type": "-"
            }
           ]
          }
         }
        ]
       },
       "datasetPreviewNameToCmdIdMap": {},
       "diffDeletes": [],
       "diffInserts": [],
       "displayType": "redashChart",
       "error": null,
       "errorSummary": null,
       "errorTraceType": null,
       "finishTime": 0,
       "globalVars": {},
       "guid": "",
       "height": "auto",
       "hideCommandCode": false,
       "hideCommandResult": false,
       "iPythonMetadata": null,
       "inputWidgets": {},
       "isLockedInExamMode": false,
       "latestUser": "a user",
       "latestUserId": null,
       "listResultMetadata": null,
       "metadata": {
        "byteLimit": 2048000,
        "rowLimit": 10000
       },
       "nuid": "812ee125-39bb-4d29-a2d1-bdc98f75798f",
       "origId": 0,
       "parentHierarchy": [],
       "pivotAggregation": null,
       "pivotColumns": null,
       "position": 4.05511474609375,
       "resultDbfsErrorMessage": null,
       "resultDbfsStatus": "INLINED_IN_TREE",
       "results": null,
       "showCommandTitle": false,
       "startTime": 0,
       "state": "finished",
       "streamStates": {},
       "subcommandOptions": {
        "queryPlan": {
         "groups": [
          {
           "column": "Victim_Agegroup",
           "type": "column"
          },
          {
           "column": "Victim_Agegroup",
           "type": "column"
          }
         ],
         "selects": [
          {
           "column": "Victim_Agegroup",
           "type": "column"
          },
          {
           "alias": "column_414de7d247",
           "args": [
            {
             "column": "Count",
             "type": "column"
            }
           ],
           "function": "SUM",
           "type": "function"
          },
          {
           "column": "Victim_Agegroup",
           "type": "column"
          }
         ]
        }
       },
       "submitTime": 0,
       "subtype": "tableResultSubCmd.visualization",
       "tableResultIndex": 0,
       "useConsistentColors": false,
       "version": "CommandV1",
       "width": "auto",
       "workflows": [],
       "xColumns": null,
       "yColumns": null
      }
     },
     "output_type": "display_data"
    }
   ],
   "source": [
    "display(spark.sql(\"select Victim_Agegroup,count(*) as Count from nypddatabase.df group by Victim_Agegroup\"))"
   ]
  },
  {
   "cell_type": "code",
   "execution_count": 0,
   "metadata": {
    "application/vnd.databricks.v1+cell": {
     "cellMetadata": {
      "byteLimit": 2048000,
      "rowLimit": 10000
     },
     "inputWidgets": {},
     "nuid": "8303e540-6e32-4d10-a9f7-6ff1c91e2ff4",
     "showTitle": false,
     "title": ""
    }
   },
   "outputs": [
    {
     "output_type": "display_data",
     "data": {
      "text/html": [
       "<style scoped>\n",
       "  .table-result-container {\n",
       "    max-height: 300px;\n",
       "    overflow: auto;\n",
       "  }\n",
       "  table, th, td {\n",
       "    border: 1px solid black;\n",
       "    border-collapse: collapse;\n",
       "  }\n",
       "  th, td {\n",
       "    padding: 5px;\n",
       "  }\n",
       "  th {\n",
       "    text-align: left;\n",
       "  }\n",
       "</style><div class='table-result-container'><table class='table-result'><thead style='background-color: white'><tr><th>Year</th><th>Count</th></tr></thead><tbody><tr><td>2020</td><td>412698</td></tr><tr><td>2021</td><td>446850</td></tr><tr><td>2019</td><td>456331</td></tr><tr><td>2022</td><td>520586</td></tr></tbody></table></div>"
      ]
     },
     "metadata": {
      "application/vnd.databricks.v1+output": {
       "addedWidgets": {},
       "aggData": [],
       "aggError": "",
       "aggOverflow": false,
       "aggSchema": [],
       "aggSeriesLimitReached": false,
       "aggType": "",
       "arguments": {},
       "columnCustomDisplayInfos": {},
       "data": [
        [
         2020,
         412698
        ],
        [
         2021,
         446850
        ],
        [
         2019,
         456331
        ],
        [
         2022,
         520586
        ]
       ],
       "datasetInfos": [],
       "dbfsResultPath": null,
       "isJsonSchema": true,
       "metadata": {},
       "overflow": false,
       "plotOptions": {
        "customPlotOptions": {},
        "displayType": "table",
        "pivotAggregation": null,
        "pivotColumns": null,
        "xColumns": null,
        "yColumns": null
       },
       "removedWidgets": [],
       "schema": [
        {
         "metadata": "{}",
         "name": "Year",
         "type": "\"integer\""
        },
        {
         "metadata": "{}",
         "name": "Count",
         "type": "\"long\""
        }
       ],
       "type": "table"
      }
     },
     "output_type": "display_data"
    },
    {
     "output_type": "display_data",
     "data": {
      "text/plain": [
       "Databricks visualization. Run in Databricks to view."
      ]
     },
     "metadata": {
      "application/vnd.databricks.v1.subcommand+json": {
       "bindings": {},
       "collapsed": false,
       "command": "%python\n__backend_agg_display_orig = display\n__backend_agg_dfs = []\ndef __backend_agg_display_new(df):\n    __backend_agg_df_modules = [\"pandas.core.frame\", \"databricks.koalas.frame\", \"pyspark.sql.dataframe\", \"pyspark.pandas.frame\", \"pyspark.sql.connect.dataframe\"]\n    if (type(df).__module__ in __backend_agg_df_modules and type(df).__name__ == 'DataFrame') or isinstance(df, list):\n        __backend_agg_dfs.append(df)\n\ndisplay = __backend_agg_display_new\n\ndef __backend_agg_user_code_fn():\n    import base64\n    exec(base64.standard_b64decode(\"ZGlzcGxheShzcGFyay5zcWwoInNlbGVjdCBZZWFyLGNvdW50KCopIGFzIENvdW50IGZyb20gbnlwZGRhdGFiYXNlLmRmIGdyb3VwIGJ5IFllYXIiKSk=\").decode())\n\ntry:\n    # run user code\n    __backend_agg_user_code_fn()\n\n    #reset display function\n    display = __backend_agg_display_orig\n\n    if len(__backend_agg_dfs) > 0:\n        # create a temp view\n        if type(__backend_agg_dfs[0]).__module__ == \"databricks.koalas.frame\":\n            # koalas dataframe\n            __backend_agg_dfs[0].to_spark().createOrReplaceTempView(\"DatabricksView94329e7\")\n        elif type(__backend_agg_dfs[0]).__module__ == \"pandas.core.frame\" or isinstance(__backend_agg_dfs[0], list):\n            # pandas dataframe\n            spark.createDataFrame(__backend_agg_dfs[0]).createOrReplaceTempView(\"DatabricksView94329e7\")\n        else:\n            __backend_agg_dfs[0].createOrReplaceTempView(\"DatabricksView94329e7\")\n        #run backend agg\n        display(spark.sql(\"\"\"WITH q AS (select * from DatabricksView94329e7) SELECT `Year`,SUM(`Count`) `column_9d3b80922` FROM q GROUP BY `Year`\"\"\"))\n    else:\n        displayHTML(\"dataframe no longer exists. If you're using dataframe.display(), use display(dataframe) instead.\")\n\n\nfinally:\n    spark.sql(\"drop view if exists DatabricksView94329e7\")\n    display = __backend_agg_display_orig\n    del __backend_agg_display_new\n    del __backend_agg_display_orig\n    del __backend_agg_dfs\n    del __backend_agg_user_code_fn\n\n",
       "commandTitle": "Visualization 1",
       "commandType": "auto",
       "commandVersion": 0,
       "commentThread": [],
       "commentsVisible": false,
       "contentSha256Hex": null,
       "customPlotOptions": {
        "redashChart": [
         {
          "key": "type",
          "value": "CHART"
         },
         {
          "key": "options",
          "value": {
           "alignYAxesAtZero": true,
           "coefficient": 1,
           "columnConfigurationMap": {
            "x": {
             "column": "Year",
             "id": "column_9d3b80921"
            },
            "y": [
             {
              "column": "Count",
              "id": "column_9d3b80922",
              "transform": "SUM"
             }
            ]
           },
           "dateTimeFormat": "DD/MM/YYYY HH:mm",
           "direction": {
            "type": "counterclockwise"
           },
           "error_y": {
            "type": "data",
            "visible": true
           },
           "globalSeriesType": "line",
           "isAggregationOn": true,
           "legend": {
            "traceorder": "normal"
           },
           "missingValuesAsZero": true,
           "numberFormat": "0,0[.]00000",
           "percentFormat": "0[.]00%",
           "series": {
            "error_y": {
             "type": "data",
             "visible": true
            },
            "stacking": null
           },
           "seriesOptions": {
            "column_9d3b80922": {
             "name": "Count",
             "type": "line",
             "yAxis": 0
            }
           },
           "showDataLabels": false,
           "sizemode": "diameter",
           "sortX": true,
           "sortY": true,
           "swappedAxes": false,
           "textFormat": "",
           "useAggregationsUi": true,
           "valuesOptions": {},
           "version": 2,
           "xAxis": {
            "labels": {
             "enabled": true
            },
            "type": "category"
           },
           "yAxis": [
            {
             "type": "-"
            },
            {
             "opposite": true,
             "type": "-"
            }
           ]
          }
         }
        ]
       },
       "datasetPreviewNameToCmdIdMap": {},
       "diffDeletes": [],
       "diffInserts": [],
       "displayType": "redashChart",
       "error": null,
       "errorSummary": null,
       "errorTraceType": null,
       "finishTime": 0,
       "globalVars": {},
       "guid": "",
       "height": "auto",
       "hideCommandCode": false,
       "hideCommandResult": false,
       "iPythonMetadata": null,
       "inputWidgets": {},
       "isLockedInExamMode": false,
       "latestUser": "a user",
       "latestUserId": null,
       "listResultMetadata": null,
       "metadata": {
        "byteLimit": 2048000,
        "rowLimit": 10000
       },
       "nuid": "85dc636d-2adf-4faf-9b45-6ff68964d114",
       "origId": 0,
       "parentHierarchy": [],
       "pivotAggregation": null,
       "pivotColumns": null,
       "position": 4.056854248046875,
       "resultDbfsErrorMessage": null,
       "resultDbfsStatus": "INLINED_IN_TREE",
       "results": null,
       "showCommandTitle": false,
       "startTime": 0,
       "state": "finished",
       "streamStates": {},
       "subcommandOptions": {
        "queryPlan": {
         "groups": [
          {
           "column": "Year",
           "type": "column"
          }
         ],
         "selects": [
          {
           "column": "Year",
           "type": "column"
          },
          {
           "alias": "column_9d3b80922",
           "args": [
            {
             "column": "Count",
             "type": "column"
            }
           ],
           "function": "SUM",
           "type": "function"
          }
         ]
        }
       },
       "submitTime": 0,
       "subtype": "tableResultSubCmd.visualization",
       "tableResultIndex": 0,
       "useConsistentColors": false,
       "version": "CommandV1",
       "width": "auto",
       "workflows": [],
       "xColumns": null,
       "yColumns": null
      }
     },
     "output_type": "display_data"
    }
   ],
   "source": [
    "display(spark.sql(\"select Year,count(*) as Count from nypddatabase.df group by Year\"))"
   ]
  },
  {
   "cell_type": "code",
   "execution_count": 0,
   "metadata": {
    "application/vnd.databricks.v1+cell": {
     "cellMetadata": {
      "byteLimit": 2048000,
      "rowLimit": 10000
     },
     "inputWidgets": {},
     "nuid": "695de2a4-8cd7-4a72-95da-61629260a2d8",
     "showTitle": false,
     "title": ""
    }
   },
   "outputs": [
    {
     "output_type": "display_data",
     "data": {
      "text/html": [
       "<style scoped>\n",
       "  .table-result-container {\n",
       "    max-height: 300px;\n",
       "    overflow: auto;\n",
       "  }\n",
       "  table, th, td {\n",
       "    border: 1px solid black;\n",
       "    border-collapse: collapse;\n",
       "  }\n",
       "  th, td {\n",
       "    padding: 5px;\n",
       "  }\n",
       "  th {\n",
       "    text-align: left;\n",
       "  }\n",
       "</style><div class='table-result-container'><table class='table-result'><thead style='background-color: white'><tr><th>Month</th><th>Count</th></tr></thead><tbody><tr><td>12</td><td>149374</td></tr><tr><td>1</td><td>144255</td></tr><tr><td>9</td><td>161261</td></tr><tr><td>8</td><td>164142</td></tr><tr><td>10</td><td>166127</td></tr><tr><td>11</td><td>156779</td></tr><tr><td>2</td><td>133296</td></tr><tr><td>6</td><td>157302</td></tr><tr><td>3</td><td>147442</td></tr><tr><td>5</td><td>155099</td></tr><tr><td>4</td><td>136607</td></tr><tr><td>7</td><td>164781</td></tr></tbody></table></div>"
      ]
     },
     "metadata": {
      "application/vnd.databricks.v1+output": {
       "addedWidgets": {},
       "aggData": [],
       "aggError": "",
       "aggOverflow": false,
       "aggSchema": [],
       "aggSeriesLimitReached": false,
       "aggType": "",
       "arguments": {},
       "columnCustomDisplayInfos": {},
       "data": [
        [
         12,
         149374
        ],
        [
         1,
         144255
        ],
        [
         9,
         161261
        ],
        [
         8,
         164142
        ],
        [
         10,
         166127
        ],
        [
         11,
         156779
        ],
        [
         2,
         133296
        ],
        [
         6,
         157302
        ],
        [
         3,
         147442
        ],
        [
         5,
         155099
        ],
        [
         4,
         136607
        ],
        [
         7,
         164781
        ]
       ],
       "datasetInfos": [],
       "dbfsResultPath": null,
       "isJsonSchema": true,
       "metadata": {},
       "overflow": false,
       "plotOptions": {
        "customPlotOptions": {},
        "displayType": "table",
        "pivotAggregation": null,
        "pivotColumns": null,
        "xColumns": null,
        "yColumns": null
       },
       "removedWidgets": [],
       "schema": [
        {
         "metadata": "{}",
         "name": "Month",
         "type": "\"integer\""
        },
        {
         "metadata": "{}",
         "name": "Count",
         "type": "\"long\""
        }
       ],
       "type": "table"
      }
     },
     "output_type": "display_data"
    },
    {
     "output_type": "display_data",
     "data": {
      "text/plain": [
       "Databricks visualization. Run in Databricks to view."
      ]
     },
     "metadata": {
      "application/vnd.databricks.v1.subcommand+json": {
       "bindings": {},
       "collapsed": false,
       "command": "%python\n__backend_agg_display_orig = display\n__backend_agg_dfs = []\ndef __backend_agg_display_new(df):\n    __backend_agg_df_modules = [\"pandas.core.frame\", \"databricks.koalas.frame\", \"pyspark.sql.dataframe\", \"pyspark.pandas.frame\", \"pyspark.sql.connect.dataframe\"]\n    if (type(df).__module__ in __backend_agg_df_modules and type(df).__name__ == 'DataFrame') or isinstance(df, list):\n        __backend_agg_dfs.append(df)\n\ndisplay = __backend_agg_display_new\n\ndef __backend_agg_user_code_fn():\n    import base64\n    exec(base64.standard_b64decode(\"ZGlzcGxheShzcGFyay5zcWwoInNlbGVjdCBNb250aCxjb3VudCgqKSBhcyBDb3VudCBmcm9tIG55cGRkYXRhYmFzZS5kZiBncm91cCBieSBNb250aCIpKQ==\").decode())\n\ntry:\n    # run user code\n    __backend_agg_user_code_fn()\n\n    #reset display function\n    display = __backend_agg_display_orig\n\n    if len(__backend_agg_dfs) > 0:\n        # create a temp view\n        if type(__backend_agg_dfs[0]).__module__ == \"databricks.koalas.frame\":\n            # koalas dataframe\n            __backend_agg_dfs[0].to_spark().createOrReplaceTempView(\"DatabricksView93bb1b7\")\n        elif type(__backend_agg_dfs[0]).__module__ == \"pandas.core.frame\" or isinstance(__backend_agg_dfs[0], list):\n            # pandas dataframe\n            spark.createDataFrame(__backend_agg_dfs[0]).createOrReplaceTempView(\"DatabricksView93bb1b7\")\n        else:\n            __backend_agg_dfs[0].createOrReplaceTempView(\"DatabricksView93bb1b7\")\n        #run backend agg\n        display(spark.sql(\"\"\"WITH q AS (select * from DatabricksView93bb1b7) SELECT `Month`,`Count`,`Month` FROM q\"\"\"))\n    else:\n        displayHTML(\"dataframe no longer exists. If you're using dataframe.display(), use display(dataframe) instead.\")\n\n\nfinally:\n    spark.sql(\"drop view if exists DatabricksView93bb1b7\")\n    display = __backend_agg_display_orig\n    del __backend_agg_display_new\n    del __backend_agg_display_orig\n    del __backend_agg_dfs\n    del __backend_agg_user_code_fn\n\n",
       "commandTitle": "Visualization 1",
       "commandType": "auto",
       "commandVersion": 0,
       "commentThread": [],
       "commentsVisible": false,
       "contentSha256Hex": null,
       "customPlotOptions": {
        "redashChart": [
         {
          "key": "type",
          "value": "CHART"
         },
         {
          "key": "options",
          "value": {
           "alignYAxesAtZero": true,
           "coefficient": 1,
           "columnConfigurationMap": {
            "series": {
             "column": "Month",
             "id": "column_16dec74c3"
            },
            "x": {
             "column": "Month",
             "id": "column_16dec74c1"
            },
            "y": [
             {
              "column": "Count",
              "id": "column_16dec74c2"
             }
            ]
           },
           "dateTimeFormat": "DD/MM/YYYY HH:mm",
           "direction": {
            "type": "counterclockwise"
           },
           "error_y": {
            "type": "data",
            "visible": true
           },
           "globalSeriesType": "scatter",
           "legend": {
            "traceorder": "normal"
           },
           "missingValuesAsZero": true,
           "numberFormat": "0,0[.]00000",
           "percentFormat": "0[.]00%",
           "series": {
            "error_y": {
             "type": "data",
             "visible": true
            },
            "stacking": null
           },
           "seriesOptions": {
            "column_16dec74c2": {
             "name": "Count",
             "yAxis": 0
            }
           },
           "showDataLabels": false,
           "sizemode": "diameter",
           "sortX": true,
           "sortY": true,
           "swappedAxes": false,
           "textFormat": "",
           "useAggregationsUi": true,
           "valuesOptions": {},
           "version": 2,
           "xAxis": {
            "labels": {
             "enabled": true
            },
            "type": "-"
           },
           "yAxis": [
            {
             "type": "-"
            },
            {
             "opposite": true,
             "type": "-"
            }
           ]
          }
         }
        ]
       },
       "datasetPreviewNameToCmdIdMap": {},
       "diffDeletes": [],
       "diffInserts": [],
       "displayType": "redashChart",
       "error": null,
       "errorSummary": null,
       "errorTraceType": null,
       "finishTime": 0,
       "globalVars": {},
       "guid": "",
       "height": "auto",
       "hideCommandCode": false,
       "hideCommandResult": false,
       "iPythonMetadata": null,
       "inputWidgets": {},
       "isLockedInExamMode": false,
       "latestUser": "a user",
       "latestUserId": null,
       "listResultMetadata": null,
       "metadata": {
        "byteLimit": 2048000,
        "rowLimit": 10000
       },
       "nuid": "9f0f0402-3d2c-46e7-9e00-b37d5d6682ee",
       "origId": 0,
       "parentHierarchy": [],
       "pivotAggregation": null,
       "pivotColumns": null,
       "position": 32.0,
       "resultDbfsErrorMessage": null,
       "resultDbfsStatus": "INLINED_IN_TREE",
       "results": null,
       "showCommandTitle": false,
       "startTime": 0,
       "state": "finished",
       "streamStates": {},
       "subcommandOptions": {
        "queryPlan": {
         "selects": [
          {
           "column": "Month",
           "type": "column"
          },
          {
           "column": "Count",
           "type": "column"
          },
          {
           "column": "Month",
           "type": "column"
          }
         ]
        }
       },
       "submitTime": 0,
       "subtype": "tableResultSubCmd.visualization",
       "tableResultIndex": 0,
       "useConsistentColors": false,
       "version": "CommandV1",
       "width": "auto",
       "workflows": [],
       "xColumns": null,
       "yColumns": null
      }
     },
     "output_type": "display_data"
    }
   ],
   "source": [
    "display(spark.sql(\"select Month,count(*) as Count from nypddatabase.df group by Month\"))"
   ]
  },
  {
   "cell_type": "markdown",
   "metadata": {
    "application/vnd.databricks.v1+cell": {
     "cellMetadata": {
      "byteLimit": 2048000,
      "rowLimit": 10000
     },
     "inputWidgets": {},
     "nuid": "79023be3-94ad-429a-a05b-a5ab7c594566",
     "showTitle": false,
     "title": ""
    }
   },
   "source": [
    "Data Preprocessing"
   ]
  },
  {
   "cell_type": "code",
   "execution_count": 0,
   "metadata": {
    "application/vnd.databricks.v1+cell": {
     "cellMetadata": {
      "byteLimit": 2048000,
      "rowLimit": 10000
     },
     "inputWidgets": {},
     "nuid": "ec7ed006-d1ec-4afa-8c83-b3dcb87ebc6c",
     "showTitle": false,
     "title": ""
    }
   },
   "outputs": [
    {
     "output_type": "stream",
     "name": "stdout",
     "output_type": "stream",
     "text": [
      "unique number of Neighborhood (int): 78\nunique number of Offence_Code (int): 69\nunique number of Offence_Type (string): 67\nunique number of Status (string): 2\nunique number of Offence_Level (string): 3\nunique number of Borough (string): 6\nunique number of Latitude (double): 159542\nunique number of Longitude (double): 160045\nunique number of Lat_Lon (string): 163800\nunique number of Victim_Sex (string): 5\nunique number of Date (date): 1460\nunique number of Hour (int): 24\nunique number of Year (int): 4\nunique number of Month (int): 12\nunique number of DoW (string): 7\nunique number of Victim_Agegroup (string): 3\n"
     ]
    }
   ],
   "source": [
    "maxBins = 70\n",
    "str_featues = []\n",
    "num_features = []\n",
    "\n",
    "for feature in df.dtypes:\n",
    "    \n",
    "    # print unique value and data type for each feature\n",
    "    feature_name = str(feature[0])\n",
    "    feature_type = str(feature[1])\n",
    "    uni = df.select(feature_name).distinct().count()\n",
    "    print(\"unique number of {} ({}):\".format(feature_name, feature_type),uni)\n",
    "    \n",
    "    # find out features with integer type\n",
    "    if feature_type == \"int\" or feature_type == \"decimal(65,0)\":\n",
    "        \n",
    "        num_features.append(feature_name)\n",
    "        \n",
    "    # find out string feature and it's unique value less than maxBins\n",
    "    elif feature_type == \"string\" and uni < maxBins:\n",
    "        \n",
    "        str_featues.append(feature_name)\n",
    "           "
   ]
  },
  {
   "cell_type": "code",
   "execution_count": 0,
   "metadata": {
    "application/vnd.databricks.v1+cell": {
     "cellMetadata": {
      "byteLimit": 2048000,
      "rowLimit": 10000
     },
     "inputWidgets": {},
     "nuid": "8f8def58-673b-485f-b0c1-ca07bd7e49bc",
     "showTitle": false,
     "title": ""
    }
   },
   "outputs": [
    {
     "output_type": "stream",
     "name": "stdout",
     "output_type": "stream",
     "text": [
      "Total 5 numerical features:['Neighborhood', 'Offence_Code', 'Hour', 'Year', 'Month']\nTotal 7 string features:['Offence_Type', 'Status', 'Offence_Level', 'Borough', 'Victim_Sex', 'DoW', 'Victim_Agegroup']\n"
     ]
    }
   ],
   "source": [
    "print(\"Total {} numerical features:{}\".format(len(num_features),num_features)) \n",
    "print(\"Total {} string features:{}\".format(len(str_featues),str_featues)) "
   ]
  },
  {
   "cell_type": "code",
   "execution_count": 0,
   "metadata": {
    "application/vnd.databricks.v1+cell": {
     "cellMetadata": {
      "byteLimit": 2048000,
      "rowLimit": 10000
     },
     "inputWidgets": {},
     "nuid": "09f9b001-ae2b-4c45-90cf-ce7e59f98de0",
     "showTitle": false,
     "title": ""
    }
   },
   "outputs": [],
   "source": [
    "indexers = [StringIndexer(inputCol=column, outputCol=column+\"_index\") for column in str_featues]"
   ]
  },
  {
   "cell_type": "code",
   "execution_count": 0,
   "metadata": {
    "application/vnd.databricks.v1+cell": {
     "cellMetadata": {
      "byteLimit": 2048000,
      "rowLimit": 10000
     },
     "inputWidgets": {},
     "nuid": "b6035b24-7527-4548-963c-1b239db038d6",
     "showTitle": false,
     "title": ""
    }
   },
   "outputs": [],
   "source": [
    "index_names = [\"{}_index\".format(x) for x in str_featues] + num_features\n",
    "assembler = VectorAssembler(inputCols= list(set(index_names) - set('Offence_Level_index')), outputCol=\"features\")"
   ]
  },
  {
   "cell_type": "code",
   "execution_count": 0,
   "metadata": {
    "application/vnd.databricks.v1+cell": {
     "cellMetadata": {
      "byteLimit": 2048000,
      "rowLimit": 10000
     },
     "inputWidgets": {},
     "nuid": "98fc6071-313a-4e86-b69e-9450870fc07d",
     "showTitle": false,
     "title": ""
    }
   },
   "outputs": [],
   "source": [
    "pipeline = Pipeline(stages=indexers+[assembler])\n",
    "data = pipeline.fit(df).transform(df)"
   ]
  },
  {
   "cell_type": "code",
   "execution_count": 0,
   "metadata": {
    "application/vnd.databricks.v1+cell": {
     "cellMetadata": {
      "byteLimit": 2048000,
      "rowLimit": 10000
     },
     "inputWidgets": {},
     "nuid": "cf34a752-7a05-465e-b370-f4b5963cb5cc",
     "showTitle": false,
     "title": ""
    }
   },
   "outputs": [],
   "source": [
    "# select feature col \n",
    "input_data = data.select([\"features\",\"Offence_Level_index\"])\n",
    "input_data = input_data.withColumnRenamed(\"Offence_Level_index\",\"label\")\n",
    "# split dataset into train set and test set \n",
    "train_data, test_data = input_data.randomSplit([.8,.2])"
   ]
  },
  {
   "cell_type": "markdown",
   "metadata": {
    "application/vnd.databricks.v1+cell": {
     "cellMetadata": {
      "byteLimit": 2048000,
      "rowLimit": 10000
     },
     "inputWidgets": {},
     "nuid": "7fd00d9f-17e2-4e22-9b6a-efe2c1c1721d",
     "showTitle": false,
     "title": ""
    }
   },
   "source": [
    "Machine Learning"
   ]
  },
  {
   "cell_type": "code",
   "execution_count": 0,
   "metadata": {
    "application/vnd.databricks.v1+cell": {
     "cellMetadata": {
      "byteLimit": 2048000,
      "rowLimit": 10000
     },
     "inputWidgets": {},
     "nuid": "73a74eb2-c5e6-4bb9-ae5c-c311e2f1a4d9",
     "showTitle": false,
     "title": ""
    }
   },
   "outputs": [],
   "source": [
    "evaluator = MulticlassClassificationEvaluator(labelCol='label', \n",
    "                                          metricName='accuracy')"
   ]
  },
  {
   "cell_type": "code",
   "execution_count": 0,
   "metadata": {
    "application/vnd.databricks.v1+cell": {
     "cellMetadata": {
      "byteLimit": 2048000,
      "rowLimit": 10000
     },
     "inputWidgets": {},
     "nuid": "e6203b4d-087b-4042-b08a-ddb100389ee4",
     "showTitle": false,
     "title": ""
    }
   },
   "outputs": [],
   "source": [
    "def classification_report_pyspark(metrics_multiclass,preds_and_labels, labels_list):\n",
    "    #import math\n",
    "    columns = ['target_class', 'precision', 'recall', 'f1-score', 'support']\n",
    "\n",
    "    data = []\n",
    "    for i in labels_list:\n",
    "        support = preds_and_labels.where('label = ' + str(i)).count()\n",
    "        data.append((str(i), float(np.round(metrics_multiclass.precision(label = i),3)), \n",
    "                     float(np.round(metrics_multiclass.recall(label = i), 3)), \n",
    "                     float(np.round(metrics_multiclass.fMeasure(i), 3)), support)), \n",
    "\n",
    "    data.append(('weighted avg', float(np.round(metrics_multiclass.weightedPrecision, 3)), \n",
    "                                 float(np.round(metrics_multiclass.weightedRecall, 3)), \n",
    "                                   float(np.round(metrics_multiclass.weightedFMeasure(), 3)), preds_and_labels.count() ))\n",
    "    class_rep = spark.createDataFrame(data, columns)\n",
    "    return class_rep"
   ]
  },
  {
   "cell_type": "markdown",
   "metadata": {
    "application/vnd.databricks.v1+cell": {
     "cellMetadata": {
      "byteLimit": 2048000,
      "rowLimit": 10000
     },
     "inputWidgets": {},
     "nuid": "256413ab-afd7-4d2b-ba4b-e09d86b044b1",
     "showTitle": false,
     "title": ""
    }
   },
   "source": [
    "Logistic Regression Model"
   ]
  },
  {
   "cell_type": "code",
   "execution_count": 0,
   "metadata": {
    "application/vnd.databricks.v1+cell": {
     "cellMetadata": {
      "byteLimit": 2048000,
      "rowLimit": 10000
     },
     "inputWidgets": {},
     "nuid": "031069b1-32ce-49f7-9b55-e48038959cef",
     "showTitle": false,
     "title": ""
    }
   },
   "outputs": [
    {
     "output_type": "stream",
     "name": "stdout",
     "output_type": "stream",
     "text": [
      "Out[36]: 0.5123498969594181"
     ]
    }
   ],
   "source": [
    "lg_model = LogisticRegression(labelCol='label', maxIter=2, elasticNetParam=1, regParam=0.5,threshold=0.3)\n",
    "lg_model = lg_model.fit(train_data)\n",
    "lg_pred = lg_model.transform(test_data)\n",
    "evaluator.evaluate(lg_pred)"
   ]
  },
  {
   "cell_type": "code",
   "execution_count": 0,
   "metadata": {
    "application/vnd.databricks.v1+cell": {
     "cellMetadata": {
      "byteLimit": 2048000,
      "rowLimit": 10000
     },
     "inputWidgets": {},
     "nuid": "bd0c74ac-1151-4d05-a946-1445442f39aa",
     "showTitle": false,
     "title": ""
    }
   },
   "outputs": [
    {
     "output_type": "stream",
     "name": "stderr",
     "output_type": "stream",
     "text": [
      "/databricks/spark/python/pyspark/sql/context.py:165: FutureWarning: Deprecated in 3.0.0. Use SparkSession.builder.getOrCreate() instead.\n  warnings.warn(\n"
     ]
    },
    {
     "output_type": "stream",
     "name": "stdout",
     "output_type": "stream",
     "text": [
      "Out[37]: array([[188202.,      0.,      0.],\n       [119476.,      0.,      0.],\n       [ 59653.,      0.,      0.]])"
     ]
    }
   ],
   "source": [
    "lg_preds_and_labels = lg_pred.select(['prediction','label'])\n",
    "lg_metrics = MulticlassMetrics(lg_preds_and_labels.rdd.map(tuple))\n",
    "lg_metrics.confusionMatrix().toArray()"
   ]
  },
  {
   "cell_type": "code",
   "execution_count": 0,
   "metadata": {
    "application/vnd.databricks.v1+cell": {
     "cellMetadata": {
      "byteLimit": 2048000,
      "rowLimit": 10000
     },
     "inputWidgets": {},
     "nuid": "9ad57646-aaa7-45c0-90ec-2a4865b96b2c",
     "showTitle": false,
     "title": ""
    }
   },
   "outputs": [
    {
     "output_type": "display_data",
     "data": {
      "text/html": [
       "<div>\n",
       "<style scoped>\n",
       "    .dataframe tbody tr th:only-of-type {\n",
       "        vertical-align: middle;\n",
       "    }\n",
       "\n",
       "    .dataframe tbody tr th {\n",
       "        vertical-align: top;\n",
       "    }\n",
       "\n",
       "    .dataframe thead th {\n",
       "        text-align: right;\n",
       "    }\n",
       "</style>\n",
       "<table border=\"1\" class=\"dataframe\">\n",
       "  <thead>\n",
       "    <tr style=\"text-align: right;\">\n",
       "      <th></th>\n",
       "      <th>0</th>\n",
       "      <th>1</th>\n",
       "      <th>2</th>\n",
       "    </tr>\n",
       "  </thead>\n",
       "  <tbody>\n",
       "    <tr>\n",
       "      <th>0</th>\n",
       "      <td>188202.0</td>\n",
       "      <td>0.0</td>\n",
       "      <td>0.0</td>\n",
       "    </tr>\n",
       "    <tr>\n",
       "      <th>1</th>\n",
       "      <td>119476.0</td>\n",
       "      <td>0.0</td>\n",
       "      <td>0.0</td>\n",
       "    </tr>\n",
       "    <tr>\n",
       "      <th>2</th>\n",
       "      <td>59653.0</td>\n",
       "      <td>0.0</td>\n",
       "      <td>0.0</td>\n",
       "    </tr>\n",
       "  </tbody>\n",
       "</table>\n",
       "</div>"
      ]
     },
     "metadata": {
      "application/vnd.databricks.v1+output": {
       "addedWidgets": {},
       "arguments": {},
       "data": "<div>\n<style scoped>\n    .dataframe tbody tr th:only-of-type {\n        vertical-align: middle;\n    }\n\n    .dataframe tbody tr th {\n        vertical-align: top;\n    }\n\n    .dataframe thead th {\n        text-align: right;\n    }\n</style>\n<table border=\"1\" class=\"dataframe\">\n  <thead>\n    <tr style=\"text-align: right;\">\n      <th></th>\n      <th>0</th>\n      <th>1</th>\n      <th>2</th>\n    </tr>\n  </thead>\n  <tbody>\n    <tr>\n      <th>0</th>\n      <td>188202.0</td>\n      <td>0.0</td>\n      <td>0.0</td>\n    </tr>\n    <tr>\n      <th>1</th>\n      <td>119476.0</td>\n      <td>0.0</td>\n      <td>0.0</td>\n    </tr>\n    <tr>\n      <th>2</th>\n      <td>59653.0</td>\n      <td>0.0</td>\n      <td>0.0</td>\n    </tr>\n  </tbody>\n</table>\n</div>",
       "datasetInfos": [],
       "metadata": {},
       "removedWidgets": [],
       "textData": null,
       "type": "htmlSandbox"
      }
     },
     "output_type": "display_data"
    }
   ],
   "source": [
    "pd.DataFrame(lg_metrics.confusionMatrix().toArray())"
   ]
  },
  {
   "cell_type": "code",
   "execution_count": 0,
   "metadata": {
    "application/vnd.databricks.v1+cell": {
     "cellMetadata": {
      "byteLimit": 2048000,
      "rowLimit": 10000
     },
     "inputWidgets": {},
     "nuid": "87c57ba0-c09c-4d73-9a30-a839b151d083",
     "showTitle": false,
     "title": ""
    }
   },
   "outputs": [
    {
     "output_type": "stream",
     "name": "stdout",
     "output_type": "stream",
     "text": [
      "Out[39]: <AxesSubplot:>"
     ]
    },
    {
     "output_type": "display_data",
     "data": {
      "image/png": "[encoded data removed]"
     },
     "metadata": {
      "application/vnd.databricks.v1+output": {
       "addedWidgets": {},
       "arguments": {},
       "data": "data:image/png;base64,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\n",
       "datasetInfos": [],
       "metadata": {},
       "removedWidgets": [],
       "type": "image"
      }
     },
     "output_type": "display_data"
    }
   ],
   "source": [
    "sns.heatmap(pd.DataFrame(lg_metrics.confusionMatrix().toArray()), annot=True, cmap=\"YlGnBu\" ,fmt='g')"
   ]
  },
  {
   "cell_type": "code",
   "execution_count": 0,
   "metadata": {
    "application/vnd.databricks.v1+cell": {
     "cellMetadata": {
      "byteLimit": 2048000,
      "rowLimit": 10000
     },
     "inputWidgets": {},
     "nuid": "52f6162f-bd67-47cc-88f4-ccd3f74d6c0f",
     "showTitle": false,
     "title": ""
    }
   },
   "outputs": [
    {
     "output_type": "stream",
     "name": "stdout",
     "output_type": "stream",
     "text": [
      "+------------+---------+------+--------+-------+\n|target_class|precision|recall|f1-score|support|\n+------------+---------+------+--------+-------+\n|         0.0|    0.512|   1.0|   0.678| 188202|\n|         1.0|      0.0|   0.0|     0.0| 119476|\n|         2.0|      0.0|   0.0|     0.0|  59653|\n|weighted avg|    0.263| 0.512|   0.347| 367331|\n+------------+---------+------+--------+-------+\n\n"
     ]
    }
   ],
   "source": [
    "lg_class_rep = classification_report_pyspark(lg_metrics, lg_preds_and_labels, [0.0, 1.0, 2.0])\n",
    "lg_class_rep.show()"
   ]
  },
  {
   "cell_type": "markdown",
   "metadata": {
    "application/vnd.databricks.v1+cell": {
     "cellMetadata": {
      "byteLimit": 2048000,
      "rowLimit": 10000
     },
     "inputWidgets": {},
     "nuid": "5153b007-58b8-47de-ae70-586c35ae8a3a",
     "showTitle": false,
     "title": ""
    }
   },
   "source": [
    "Ensemble Model :- \n",
    "Random Forest Classifier"
   ]
  },
  {
   "cell_type": "code",
   "execution_count": 0,
   "metadata": {
    "application/vnd.databricks.v1+cell": {
     "cellMetadata": {
      "byteLimit": 2048000,
      "rowLimit": 10000
     },
     "inputWidgets": {},
     "nuid": "2b1bbfaa-f789-46db-98a8-e7e0c03d87c8",
     "showTitle": false,
     "title": ""
    }
   },
   "outputs": [
    {
     "output_type": "stream",
     "name": "stdout",
     "output_type": "stream",
     "text": [
      "Out[41]: 0.9991560744941211"
     ]
    }
   ],
   "source": [
    "rf_model = RandomForestClassifier(labelCol='label',maxBins=75,numTrees=3,maxDepth=3)\n",
    "rf_model = rf_model.fit(train_data)\n",
    "rf_pred = rf_model.transform(test_data)\n",
    "evaluator.evaluate(rf_pred)"
   ]
  },
  {
   "cell_type": "code",
   "execution_count": 0,
   "metadata": {
    "application/vnd.databricks.v1+cell": {
     "cellMetadata": {
      "byteLimit": 2048000,
      "rowLimit": 10000
     },
     "inputWidgets": {},
     "nuid": "edb1e6bf-8e06-448a-89c0-eab260a60899",
     "showTitle": false,
     "title": ""
    }
   },
   "outputs": [
    {
     "output_type": "stream",
     "name": "stderr",
     "output_type": "stream",
     "text": [
      "/databricks/spark/python/pyspark/sql/context.py:165: FutureWarning: Deprecated in 3.0.0. Use SparkSession.builder.getOrCreate() instead.\n  warnings.warn(\n"
     ]
    },
    {
     "output_type": "stream",
     "name": "stdout",
     "output_type": "stream",
     "text": [
      "Out[42]: array([[1.88202e+05, 0.00000e+00, 0.00000e+00],\n       [0.00000e+00, 1.19476e+05, 0.00000e+00],\n       [2.92000e+02, 1.80000e+01, 5.93430e+04]])"
     ]
    }
   ],
   "source": [
    "rf_preds_and_labels = rf_pred.select(['prediction','label'])\n",
    "rf_metrics = MulticlassMetrics(rf_preds_and_labels.rdd.map(tuple))\n",
    "rf_metrics.confusionMatrix().toArray()"
   ]
  },
  {
   "cell_type": "code",
   "execution_count": 0,
   "metadata": {
    "application/vnd.databricks.v1+cell": {
     "cellMetadata": {
      "byteLimit": 2048000,
      "rowLimit": 10000
     },
     "inputWidgets": {},
     "nuid": "44bf42d5-330e-41c0-ab5a-a2feb4c496c2",
     "showTitle": false,
     "title": ""
    }
   },
   "outputs": [
    {
     "output_type": "display_data",
     "data": {
      "text/html": [
       "<div>\n",
       "<style scoped>\n",
       "    .dataframe tbody tr th:only-of-type {\n",
       "        vertical-align: middle;\n",
       "    }\n",
       "\n",
       "    .dataframe tbody tr th {\n",
       "        vertical-align: top;\n",
       "    }\n",
       "\n",
       "    .dataframe thead th {\n",
       "        text-align: right;\n",
       "    }\n",
       "</style>\n",
       "<table border=\"1\" class=\"dataframe\">\n",
       "  <thead>\n",
       "    <tr style=\"text-align: right;\">\n",
       "      <th></th>\n",
       "      <th>0</th>\n",
       "      <th>1</th>\n",
       "      <th>2</th>\n",
       "    </tr>\n",
       "  </thead>\n",
       "  <tbody>\n",
       "    <tr>\n",
       "      <th>0</th>\n",
       "      <td>188202.0</td>\n",
       "      <td>0.0</td>\n",
       "      <td>0.0</td>\n",
       "    </tr>\n",
       "    <tr>\n",
       "      <th>1</th>\n",
       "      <td>0.0</td>\n",
       "      <td>119476.0</td>\n",
       "      <td>0.0</td>\n",
       "    </tr>\n",
       "    <tr>\n",
       "      <th>2</th>\n",
       "      <td>292.0</td>\n",
       "      <td>18.0</td>\n",
       "      <td>59343.0</td>\n",
       "    </tr>\n",
       "  </tbody>\n",
       "</table>\n",
       "</div>"
      ]
     },
     "metadata": {
      "application/vnd.databricks.v1+output": {
       "addedWidgets": {},
       "arguments": {},
       "data": "<div>\n<style scoped>\n    .dataframe tbody tr th:only-of-type {\n        vertical-align: middle;\n    }\n\n    .dataframe tbody tr th {\n        vertical-align: top;\n    }\n\n    .dataframe thead th {\n        text-align: right;\n    }\n</style>\n<table border=\"1\" class=\"dataframe\">\n  <thead>\n    <tr style=\"text-align: right;\">\n      <th></th>\n      <th>0</th>\n      <th>1</th>\n      <th>2</th>\n    </tr>\n  </thead>\n  <tbody>\n    <tr>\n      <th>0</th>\n      <td>188202.0</td>\n      <td>0.0</td>\n      <td>0.0</td>\n    </tr>\n    <tr>\n      <th>1</th>\n      <td>0.0</td>\n      <td>119476.0</td>\n      <td>0.0</td>\n    </tr>\n    <tr>\n      <th>2</th>\n      <td>292.0</td>\n      <td>18.0</td>\n      <td>59343.0</td>\n    </tr>\n  </tbody>\n</table>\n</div>",
       "datasetInfos": [],
       "metadata": {},
       "removedWidgets": [],
       "textData": null,
       "type": "htmlSandbox"
      }
     },
     "output_type": "display_data"
    }
   ],
   "source": [
    "pd.DataFrame(rf_metrics.confusionMatrix().toArray())"
   ]
  },
  {
   "cell_type": "code",
   "execution_count": 0,
   "metadata": {
    "application/vnd.databricks.v1+cell": {
     "cellMetadata": {
      "byteLimit": 2048000,
      "rowLimit": 10000
     },
     "inputWidgets": {},
     "nuid": "58c46481-0521-4907-af94-8ca013b3d940",
     "showTitle": false,
     "title": ""
    }
   },
   "outputs": [
    {
     "output_type": "stream",
     "name": "stdout",
     "output_type": "stream",
     "text": [
      "Out[44]: <AxesSubplot:>"
     ]
    },
    {
     "output_type": "display_data",
     "data": {
      "image/png": "[encoded data removed]"
     },
     "metadata": {
      "application/vnd.databricks.v1+output": {
       "addedWidgets": {},
       "arguments": {},
       "data": "data:image/png;base64,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\n",
       "datasetInfos": [],
       "metadata": {},
       "removedWidgets": [],
       "type": "image"
      }
     },
     "output_type": "display_data"
    }
   ],
   "source": [
    "sns.heatmap(pd.DataFrame(rf_metrics.confusionMatrix().toArray()), annot=True, cmap=\"YlGnBu\" ,fmt='g')"
   ]
  },
  {
   "cell_type": "code",
   "execution_count": 0,
   "metadata": {
    "application/vnd.databricks.v1+cell": {
     "cellMetadata": {
      "byteLimit": 2048000,
      "rowLimit": 10000
     },
     "inputWidgets": {},
     "nuid": "8fc7bf13-ca60-486c-9e13-0f89c30a5c32",
     "showTitle": false,
     "title": ""
    }
   },
   "outputs": [
    {
     "output_type": "stream",
     "name": "stdout",
     "output_type": "stream",
     "text": [
      "+------------+---------+------+--------+-------+\n|target_class|precision|recall|f1-score|support|\n+------------+---------+------+--------+-------+\n|         0.0|    0.998|   1.0|   0.999| 188202|\n|         1.0|      1.0|   1.0|     1.0| 119476|\n|         2.0|      1.0| 0.995|   0.997|  59653|\n|weighted avg|    0.999| 0.999|   0.999| 367331|\n+------------+---------+------+--------+-------+\n\n"
     ]
    }
   ],
   "source": [
    "rf_class_rep = classification_report_pyspark(rf_metrics, rf_preds_and_labels, [0.0, 1.0, 2.0])\n",
    "rf_class_rep.show()"
   ]
  }
 ],
 "metadata": {
  "application/vnd.databricks.v1+notebook": {
   "dashboards": [],
   "language": "python",
   "notebookMetadata": {
    "mostRecentlyExecutedCommandWithImplicitDF": {
     "commandId": 2543944995305918,
     "dataframes": [
      "_sqldf"
     ]
    },
    "pythonIndentUnit": 4
   },
   "notebookName": "crime_prediction_pyspark",
   "widgets": {}
  }
 },
 "nbformat": 4,
 "nbformat_minor": 0
}
